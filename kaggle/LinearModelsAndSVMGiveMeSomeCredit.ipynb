{
 "cells": [
  {
   "cell_type": "markdown",
   "metadata": {},
   "source": [
    "# Give Me Some Credit (Linear Models and SVM)"
   ]
  },
  {
   "cell_type": "code",
   "execution_count": 1,
   "metadata": {
    "collapsed": true
   },
   "outputs": [],
   "source": [
    "import pandas as pd"
   ]
  },
  {
   "cell_type": "code",
   "execution_count": 2,
   "metadata": {
    "collapsed": true
   },
   "outputs": [],
   "source": [
    "datapath = 'dataset/'"
   ]
  },
  {
   "cell_type": "code",
   "execution_count": 3,
   "metadata": {},
   "outputs": [
    {
     "data": {
      "text/plain": [
       "['cs-test.csv',\n",
       " 'cs-training.csv',\n",
       " 'Data Dictionary.xls',\n",
       " 'our_prediction.csv',\n",
       " 'sampleEntry.csv']"
      ]
     },
     "execution_count": 3,
     "metadata": {},
     "output_type": "execute_result"
    }
   ],
   "source": [
    "import os\n",
    "os.listdir(datapath)"
   ]
  },
  {
   "cell_type": "code",
   "execution_count": 4,
   "metadata": {
    "collapsed": true
   },
   "outputs": [],
   "source": [
    "fname = 'cs-training.csv'\n",
    "data = pd.read_csv(datapath + fname, index_col=0)"
   ]
  },
  {
   "cell_type": "code",
   "execution_count": 5,
   "metadata": {
    "collapsed": true
   },
   "outputs": [],
   "source": [
    "# ?pd.read_csv"
   ]
  },
  {
   "cell_type": "code",
   "execution_count": 6,
   "metadata": {
    "collapsed": true
   },
   "outputs": [],
   "source": [
    "Y = data['SeriousDlqin2yrs']"
   ]
  },
  {
   "cell_type": "code",
   "execution_count": 7,
   "metadata": {
    "collapsed": true
   },
   "outputs": [],
   "source": [
    "X = data.drop('SeriousDlqin2yrs', axis=1)"
   ]
  },
  {
   "cell_type": "code",
   "execution_count": 8,
   "metadata": {
    "collapsed": true
   },
   "outputs": [],
   "source": [
    "# X"
   ]
  },
  {
   "cell_type": "code",
   "execution_count": 9,
   "metadata": {
    "collapsed": true
   },
   "outputs": [],
   "source": [
    "# data"
   ]
  },
  {
   "cell_type": "code",
   "execution_count": 10,
   "metadata": {
    "collapsed": true
   },
   "outputs": [],
   "source": [
    "# Y.count() == len(Y)"
   ]
  },
  {
   "cell_type": "code",
   "execution_count": 11,
   "metadata": {},
   "outputs": [
    {
     "data": {
      "text/plain": [
       "RevolvingUtilizationOfUnsecuredLines    150000\n",
       "age                                     150000\n",
       "NumberOfTime30-59DaysPastDueNotWorse    150000\n",
       "DebtRatio                               150000\n",
       "MonthlyIncome                           120269\n",
       "NumberOfOpenCreditLinesAndLoans         150000\n",
       "NumberOfTimes90DaysLate                 150000\n",
       "NumberRealEstateLoansOrLines            150000\n",
       "NumberOfTime60-89DaysPastDueNotWorse    150000\n",
       "NumberOfDependents                      146076\n",
       "dtype: int64"
      ]
     },
     "execution_count": 11,
     "metadata": {},
     "output_type": "execute_result"
    }
   ],
   "source": [
    "X.count()"
   ]
  },
  {
   "cell_type": "markdown",
   "metadata": {},
   "source": [
    "## Cleaning the Data"
   ]
  },
  {
   "cell_type": "code",
   "execution_count": 12,
   "metadata": {},
   "outputs": [
    {
     "data": {
      "text/plain": [
       "count    1.202690e+05\n",
       "mean     6.670221e+03\n",
       "std      1.438467e+04\n",
       "min      0.000000e+00\n",
       "25%      3.400000e+03\n",
       "50%      5.400000e+03\n",
       "75%      8.249000e+03\n",
       "max      3.008750e+06\n",
       "Name: MonthlyIncome, dtype: float64"
      ]
     },
     "execution_count": 12,
     "metadata": {},
     "output_type": "execute_result"
    }
   ],
   "source": [
    "data['MonthlyIncome'].describe()"
   ]
  },
  {
   "cell_type": "code",
   "execution_count": 13,
   "metadata": {
    "collapsed": true
   },
   "outputs": [],
   "source": [
    "#data[data['MonthlyIncome'] > 100000] ['Monthlyincome']"
   ]
  },
  {
   "cell_type": "code",
   "execution_count": 14,
   "metadata": {},
   "outputs": [
    {
     "data": {
      "text/html": [
       "<div>\n",
       "<style>\n",
       "    .dataframe thead tr:only-child th {\n",
       "        text-align: right;\n",
       "    }\n",
       "\n",
       "    .dataframe thead th {\n",
       "        text-align: left;\n",
       "    }\n",
       "\n",
       "    .dataframe tbody tr th {\n",
       "        vertical-align: top;\n",
       "    }\n",
       "</style>\n",
       "<table border=\"1\" class=\"dataframe\">\n",
       "  <thead>\n",
       "    <tr style=\"text-align: right;\">\n",
       "      <th></th>\n",
       "      <th>SeriousDlqin2yrs</th>\n",
       "      <th>RevolvingUtilizationOfUnsecuredLines</th>\n",
       "      <th>age</th>\n",
       "      <th>NumberOfTime30-59DaysPastDueNotWorse</th>\n",
       "      <th>DebtRatio</th>\n",
       "      <th>MonthlyIncome</th>\n",
       "      <th>NumberOfOpenCreditLinesAndLoans</th>\n",
       "      <th>NumberOfTimes90DaysLate</th>\n",
       "      <th>NumberRealEstateLoansOrLines</th>\n",
       "      <th>NumberOfTime60-89DaysPastDueNotWorse</th>\n",
       "      <th>NumberOfDependents</th>\n",
       "    </tr>\n",
       "  </thead>\n",
       "  <tbody>\n",
       "    <tr>\n",
       "      <th>7</th>\n",
       "      <td>0</td>\n",
       "      <td>0.305682</td>\n",
       "      <td>57</td>\n",
       "      <td>0</td>\n",
       "      <td>5710.0</td>\n",
       "      <td>NaN</td>\n",
       "      <td>8</td>\n",
       "      <td>0</td>\n",
       "      <td>3</td>\n",
       "      <td>0</td>\n",
       "      <td>0.0</td>\n",
       "    </tr>\n",
       "    <tr>\n",
       "      <th>9</th>\n",
       "      <td>0</td>\n",
       "      <td>0.116951</td>\n",
       "      <td>27</td>\n",
       "      <td>0</td>\n",
       "      <td>46.0</td>\n",
       "      <td>NaN</td>\n",
       "      <td>2</td>\n",
       "      <td>0</td>\n",
       "      <td>0</td>\n",
       "      <td>0</td>\n",
       "      <td>NaN</td>\n",
       "    </tr>\n",
       "    <tr>\n",
       "      <th>17</th>\n",
       "      <td>0</td>\n",
       "      <td>0.061086</td>\n",
       "      <td>78</td>\n",
       "      <td>0</td>\n",
       "      <td>2058.0</td>\n",
       "      <td>NaN</td>\n",
       "      <td>10</td>\n",
       "      <td>0</td>\n",
       "      <td>2</td>\n",
       "      <td>0</td>\n",
       "      <td>0.0</td>\n",
       "    </tr>\n",
       "    <tr>\n",
       "      <th>33</th>\n",
       "      <td>0</td>\n",
       "      <td>0.083418</td>\n",
       "      <td>62</td>\n",
       "      <td>0</td>\n",
       "      <td>977.0</td>\n",
       "      <td>NaN</td>\n",
       "      <td>6</td>\n",
       "      <td>0</td>\n",
       "      <td>1</td>\n",
       "      <td>0</td>\n",
       "      <td>0.0</td>\n",
       "    </tr>\n",
       "    <tr>\n",
       "      <th>42</th>\n",
       "      <td>0</td>\n",
       "      <td>0.072898</td>\n",
       "      <td>81</td>\n",
       "      <td>0</td>\n",
       "      <td>75.0</td>\n",
       "      <td>NaN</td>\n",
       "      <td>7</td>\n",
       "      <td>0</td>\n",
       "      <td>0</td>\n",
       "      <td>0</td>\n",
       "      <td>0.0</td>\n",
       "    </tr>\n",
       "    <tr>\n",
       "      <th>53</th>\n",
       "      <td>0</td>\n",
       "      <td>1.000000</td>\n",
       "      <td>62</td>\n",
       "      <td>0</td>\n",
       "      <td>0.0</td>\n",
       "      <td>NaN</td>\n",
       "      <td>1</td>\n",
       "      <td>0</td>\n",
       "      <td>0</td>\n",
       "      <td>0</td>\n",
       "      <td>0.0</td>\n",
       "    </tr>\n",
       "    <tr>\n",
       "      <th>59</th>\n",
       "      <td>0</td>\n",
       "      <td>0.541109</td>\n",
       "      <td>43</td>\n",
       "      <td>0</td>\n",
       "      <td>2477.0</td>\n",
       "      <td>NaN</td>\n",
       "      <td>3</td>\n",
       "      <td>0</td>\n",
       "      <td>1</td>\n",
       "      <td>0</td>\n",
       "      <td>2.0</td>\n",
       "    </tr>\n",
       "    <tr>\n",
       "      <th>63</th>\n",
       "      <td>0</td>\n",
       "      <td>0.101156</td>\n",
       "      <td>72</td>\n",
       "      <td>0</td>\n",
       "      <td>1720.0</td>\n",
       "      <td>NaN</td>\n",
       "      <td>12</td>\n",
       "      <td>0</td>\n",
       "      <td>2</td>\n",
       "      <td>0</td>\n",
       "      <td>0.0</td>\n",
       "    </tr>\n",
       "    <tr>\n",
       "      <th>72</th>\n",
       "      <td>0</td>\n",
       "      <td>0.142013</td>\n",
       "      <td>67</td>\n",
       "      <td>0</td>\n",
       "      <td>1824.0</td>\n",
       "      <td>NaN</td>\n",
       "      <td>7</td>\n",
       "      <td>0</td>\n",
       "      <td>2</td>\n",
       "      <td>0</td>\n",
       "      <td>0.0</td>\n",
       "    </tr>\n",
       "    <tr>\n",
       "      <th>87</th>\n",
       "      <td>0</td>\n",
       "      <td>0.360510</td>\n",
       "      <td>58</td>\n",
       "      <td>1</td>\n",
       "      <td>3282.0</td>\n",
       "      <td>NaN</td>\n",
       "      <td>8</td>\n",
       "      <td>0</td>\n",
       "      <td>2</td>\n",
       "      <td>0</td>\n",
       "      <td>0.0</td>\n",
       "    </tr>\n",
       "    <tr>\n",
       "      <th>93</th>\n",
       "      <td>0</td>\n",
       "      <td>0.784836</td>\n",
       "      <td>52</td>\n",
       "      <td>0</td>\n",
       "      <td>2662.0</td>\n",
       "      <td>NaN</td>\n",
       "      <td>10</td>\n",
       "      <td>0</td>\n",
       "      <td>2</td>\n",
       "      <td>1</td>\n",
       "      <td>0.0</td>\n",
       "    </tr>\n",
       "    <tr>\n",
       "      <th>97</th>\n",
       "      <td>0</td>\n",
       "      <td>0.542243</td>\n",
       "      <td>48</td>\n",
       "      <td>2</td>\n",
       "      <td>10.0</td>\n",
       "      <td>NaN</td>\n",
       "      <td>2</td>\n",
       "      <td>0</td>\n",
       "      <td>0</td>\n",
       "      <td>0</td>\n",
       "      <td>NaN</td>\n",
       "    </tr>\n",
       "    <tr>\n",
       "      <th>101</th>\n",
       "      <td>0</td>\n",
       "      <td>0.013025</td>\n",
       "      <td>61</td>\n",
       "      <td>0</td>\n",
       "      <td>15.0</td>\n",
       "      <td>NaN</td>\n",
       "      <td>4</td>\n",
       "      <td>0</td>\n",
       "      <td>0</td>\n",
       "      <td>0</td>\n",
       "      <td>0.0</td>\n",
       "    </tr>\n",
       "    <tr>\n",
       "      <th>110</th>\n",
       "      <td>0</td>\n",
       "      <td>0.041258</td>\n",
       "      <td>61</td>\n",
       "      <td>0</td>\n",
       "      <td>4739.0</td>\n",
       "      <td>NaN</td>\n",
       "      <td>11</td>\n",
       "      <td>0</td>\n",
       "      <td>4</td>\n",
       "      <td>0</td>\n",
       "      <td>NaN</td>\n",
       "    </tr>\n",
       "    <tr>\n",
       "      <th>116</th>\n",
       "      <td>0</td>\n",
       "      <td>0.007508</td>\n",
       "      <td>74</td>\n",
       "      <td>0</td>\n",
       "      <td>7.0</td>\n",
       "      <td>NaN</td>\n",
       "      <td>4</td>\n",
       "      <td>0</td>\n",
       "      <td>0</td>\n",
       "      <td>0</td>\n",
       "      <td>0.0</td>\n",
       "    </tr>\n",
       "    <tr>\n",
       "      <th>119</th>\n",
       "      <td>0</td>\n",
       "      <td>0.007521</td>\n",
       "      <td>68</td>\n",
       "      <td>0</td>\n",
       "      <td>269.0</td>\n",
       "      <td>NaN</td>\n",
       "      <td>4</td>\n",
       "      <td>0</td>\n",
       "      <td>0</td>\n",
       "      <td>0</td>\n",
       "      <td>0.0</td>\n",
       "    </tr>\n",
       "    <tr>\n",
       "      <th>125</th>\n",
       "      <td>0</td>\n",
       "      <td>0.277957</td>\n",
       "      <td>39</td>\n",
       "      <td>0</td>\n",
       "      <td>4090.0</td>\n",
       "      <td>NaN</td>\n",
       "      <td>9</td>\n",
       "      <td>0</td>\n",
       "      <td>2</td>\n",
       "      <td>0</td>\n",
       "      <td>0.0</td>\n",
       "    </tr>\n",
       "    <tr>\n",
       "      <th>131</th>\n",
       "      <td>0</td>\n",
       "      <td>0.175728</td>\n",
       "      <td>43</td>\n",
       "      <td>1</td>\n",
       "      <td>994.0</td>\n",
       "      <td>NaN</td>\n",
       "      <td>4</td>\n",
       "      <td>0</td>\n",
       "      <td>1</td>\n",
       "      <td>0</td>\n",
       "      <td>0.0</td>\n",
       "    </tr>\n",
       "    <tr>\n",
       "      <th>142</th>\n",
       "      <td>0</td>\n",
       "      <td>0.576519</td>\n",
       "      <td>72</td>\n",
       "      <td>0</td>\n",
       "      <td>3031.0</td>\n",
       "      <td>NaN</td>\n",
       "      <td>11</td>\n",
       "      <td>0</td>\n",
       "      <td>1</td>\n",
       "      <td>0</td>\n",
       "      <td>0.0</td>\n",
       "    </tr>\n",
       "    <tr>\n",
       "      <th>144</th>\n",
       "      <td>0</td>\n",
       "      <td>0.362484</td>\n",
       "      <td>27</td>\n",
       "      <td>0</td>\n",
       "      <td>567.0</td>\n",
       "      <td>NaN</td>\n",
       "      <td>4</td>\n",
       "      <td>0</td>\n",
       "      <td>0</td>\n",
       "      <td>0</td>\n",
       "      <td>0.0</td>\n",
       "    </tr>\n",
       "    <tr>\n",
       "      <th>160</th>\n",
       "      <td>0</td>\n",
       "      <td>0.000000</td>\n",
       "      <td>63</td>\n",
       "      <td>0</td>\n",
       "      <td>2.0</td>\n",
       "      <td>NaN</td>\n",
       "      <td>4</td>\n",
       "      <td>0</td>\n",
       "      <td>0</td>\n",
       "      <td>0</td>\n",
       "      <td>NaN</td>\n",
       "    </tr>\n",
       "    <tr>\n",
       "      <th>162</th>\n",
       "      <td>0</td>\n",
       "      <td>0.070772</td>\n",
       "      <td>38</td>\n",
       "      <td>0</td>\n",
       "      <td>2088.0</td>\n",
       "      <td>NaN</td>\n",
       "      <td>6</td>\n",
       "      <td>0</td>\n",
       "      <td>1</td>\n",
       "      <td>0</td>\n",
       "      <td>0.0</td>\n",
       "    </tr>\n",
       "    <tr>\n",
       "      <th>167</th>\n",
       "      <td>0</td>\n",
       "      <td>0.081380</td>\n",
       "      <td>63</td>\n",
       "      <td>0</td>\n",
       "      <td>1268.0</td>\n",
       "      <td>NaN</td>\n",
       "      <td>8</td>\n",
       "      <td>0</td>\n",
       "      <td>1</td>\n",
       "      <td>0</td>\n",
       "      <td>0.0</td>\n",
       "    </tr>\n",
       "    <tr>\n",
       "      <th>172</th>\n",
       "      <td>0</td>\n",
       "      <td>1.000000</td>\n",
       "      <td>29</td>\n",
       "      <td>0</td>\n",
       "      <td>974.0</td>\n",
       "      <td>NaN</td>\n",
       "      <td>2</td>\n",
       "      <td>0</td>\n",
       "      <td>0</td>\n",
       "      <td>0</td>\n",
       "      <td>0.0</td>\n",
       "    </tr>\n",
       "    <tr>\n",
       "      <th>180</th>\n",
       "      <td>1</td>\n",
       "      <td>0.946964</td>\n",
       "      <td>35</td>\n",
       "      <td>0</td>\n",
       "      <td>1593.0</td>\n",
       "      <td>NaN</td>\n",
       "      <td>6</td>\n",
       "      <td>0</td>\n",
       "      <td>1</td>\n",
       "      <td>0</td>\n",
       "      <td>1.0</td>\n",
       "    </tr>\n",
       "    <tr>\n",
       "      <th>182</th>\n",
       "      <td>0</td>\n",
       "      <td>0.055549</td>\n",
       "      <td>65</td>\n",
       "      <td>0</td>\n",
       "      <td>2177.0</td>\n",
       "      <td>NaN</td>\n",
       "      <td>6</td>\n",
       "      <td>0</td>\n",
       "      <td>1</td>\n",
       "      <td>0</td>\n",
       "      <td>1.0</td>\n",
       "    </tr>\n",
       "    <tr>\n",
       "      <th>184</th>\n",
       "      <td>0</td>\n",
       "      <td>0.184987</td>\n",
       "      <td>55</td>\n",
       "      <td>4</td>\n",
       "      <td>3144.0</td>\n",
       "      <td>NaN</td>\n",
       "      <td>11</td>\n",
       "      <td>0</td>\n",
       "      <td>1</td>\n",
       "      <td>0</td>\n",
       "      <td>0.0</td>\n",
       "    </tr>\n",
       "    <tr>\n",
       "      <th>188</th>\n",
       "      <td>0</td>\n",
       "      <td>0.011210</td>\n",
       "      <td>86</td>\n",
       "      <td>0</td>\n",
       "      <td>13.0</td>\n",
       "      <td>NaN</td>\n",
       "      <td>3</td>\n",
       "      <td>0</td>\n",
       "      <td>0</td>\n",
       "      <td>0</td>\n",
       "      <td>0.0</td>\n",
       "    </tr>\n",
       "    <tr>\n",
       "      <th>193</th>\n",
       "      <td>0</td>\n",
       "      <td>0.000000</td>\n",
       "      <td>49</td>\n",
       "      <td>0</td>\n",
       "      <td>2932.0</td>\n",
       "      <td>NaN</td>\n",
       "      <td>11</td>\n",
       "      <td>0</td>\n",
       "      <td>1</td>\n",
       "      <td>0</td>\n",
       "      <td>0.0</td>\n",
       "    </tr>\n",
       "    <tr>\n",
       "      <th>199</th>\n",
       "      <td>0</td>\n",
       "      <td>0.114869</td>\n",
       "      <td>35</td>\n",
       "      <td>0</td>\n",
       "      <td>103.0</td>\n",
       "      <td>NaN</td>\n",
       "      <td>6</td>\n",
       "      <td>0</td>\n",
       "      <td>0</td>\n",
       "      <td>0</td>\n",
       "      <td>0.0</td>\n",
       "    </tr>\n",
       "    <tr>\n",
       "      <th>...</th>\n",
       "      <td>...</td>\n",
       "      <td>...</td>\n",
       "      <td>...</td>\n",
       "      <td>...</td>\n",
       "      <td>...</td>\n",
       "      <td>...</td>\n",
       "      <td>...</td>\n",
       "      <td>...</td>\n",
       "      <td>...</td>\n",
       "      <td>...</td>\n",
       "      <td>...</td>\n",
       "    </tr>\n",
       "    <tr>\n",
       "      <th>149893</th>\n",
       "      <td>0</td>\n",
       "      <td>0.901650</td>\n",
       "      <td>41</td>\n",
       "      <td>1</td>\n",
       "      <td>1421.0</td>\n",
       "      <td>NaN</td>\n",
       "      <td>12</td>\n",
       "      <td>0</td>\n",
       "      <td>0</td>\n",
       "      <td>0</td>\n",
       "      <td>0.0</td>\n",
       "    </tr>\n",
       "    <tr>\n",
       "      <th>149895</th>\n",
       "      <td>0</td>\n",
       "      <td>0.017904</td>\n",
       "      <td>55</td>\n",
       "      <td>0</td>\n",
       "      <td>1058.0</td>\n",
       "      <td>NaN</td>\n",
       "      <td>8</td>\n",
       "      <td>0</td>\n",
       "      <td>1</td>\n",
       "      <td>1</td>\n",
       "      <td>NaN</td>\n",
       "    </tr>\n",
       "    <tr>\n",
       "      <th>149898</th>\n",
       "      <td>1</td>\n",
       "      <td>1.019967</td>\n",
       "      <td>41</td>\n",
       "      <td>1</td>\n",
       "      <td>1456.0</td>\n",
       "      <td>NaN</td>\n",
       "      <td>4</td>\n",
       "      <td>0</td>\n",
       "      <td>1</td>\n",
       "      <td>0</td>\n",
       "      <td>0.0</td>\n",
       "    </tr>\n",
       "    <tr>\n",
       "      <th>149899</th>\n",
       "      <td>0</td>\n",
       "      <td>1.000000</td>\n",
       "      <td>26</td>\n",
       "      <td>1</td>\n",
       "      <td>0.0</td>\n",
       "      <td>NaN</td>\n",
       "      <td>0</td>\n",
       "      <td>1</td>\n",
       "      <td>0</td>\n",
       "      <td>0</td>\n",
       "      <td>0.0</td>\n",
       "    </tr>\n",
       "    <tr>\n",
       "      <th>149913</th>\n",
       "      <td>0</td>\n",
       "      <td>0.052186</td>\n",
       "      <td>71</td>\n",
       "      <td>0</td>\n",
       "      <td>16.0</td>\n",
       "      <td>NaN</td>\n",
       "      <td>2</td>\n",
       "      <td>0</td>\n",
       "      <td>0</td>\n",
       "      <td>0</td>\n",
       "      <td>0.0</td>\n",
       "    </tr>\n",
       "    <tr>\n",
       "      <th>149916</th>\n",
       "      <td>0</td>\n",
       "      <td>0.208988</td>\n",
       "      <td>76</td>\n",
       "      <td>0</td>\n",
       "      <td>1903.0</td>\n",
       "      <td>NaN</td>\n",
       "      <td>10</td>\n",
       "      <td>0</td>\n",
       "      <td>2</td>\n",
       "      <td>0</td>\n",
       "      <td>0.0</td>\n",
       "    </tr>\n",
       "    <tr>\n",
       "      <th>149919</th>\n",
       "      <td>0</td>\n",
       "      <td>0.015699</td>\n",
       "      <td>77</td>\n",
       "      <td>0</td>\n",
       "      <td>9.0</td>\n",
       "      <td>NaN</td>\n",
       "      <td>2</td>\n",
       "      <td>0</td>\n",
       "      <td>0</td>\n",
       "      <td>0</td>\n",
       "      <td>0.0</td>\n",
       "    </tr>\n",
       "    <tr>\n",
       "      <th>149922</th>\n",
       "      <td>0</td>\n",
       "      <td>0.031838</td>\n",
       "      <td>67</td>\n",
       "      <td>0</td>\n",
       "      <td>1182.0</td>\n",
       "      <td>NaN</td>\n",
       "      <td>5</td>\n",
       "      <td>0</td>\n",
       "      <td>1</td>\n",
       "      <td>0</td>\n",
       "      <td>0.0</td>\n",
       "    </tr>\n",
       "    <tr>\n",
       "      <th>149923</th>\n",
       "      <td>0</td>\n",
       "      <td>0.761465</td>\n",
       "      <td>41</td>\n",
       "      <td>0</td>\n",
       "      <td>6114.0</td>\n",
       "      <td>NaN</td>\n",
       "      <td>19</td>\n",
       "      <td>0</td>\n",
       "      <td>1</td>\n",
       "      <td>0</td>\n",
       "      <td>2.0</td>\n",
       "    </tr>\n",
       "    <tr>\n",
       "      <th>149924</th>\n",
       "      <td>0</td>\n",
       "      <td>0.245212</td>\n",
       "      <td>62</td>\n",
       "      <td>0</td>\n",
       "      <td>3720.0</td>\n",
       "      <td>NaN</td>\n",
       "      <td>16</td>\n",
       "      <td>0</td>\n",
       "      <td>2</td>\n",
       "      <td>0</td>\n",
       "      <td>0.0</td>\n",
       "    </tr>\n",
       "    <tr>\n",
       "      <th>149925</th>\n",
       "      <td>1</td>\n",
       "      <td>0.673699</td>\n",
       "      <td>62</td>\n",
       "      <td>1</td>\n",
       "      <td>3653.0</td>\n",
       "      <td>NaN</td>\n",
       "      <td>16</td>\n",
       "      <td>0</td>\n",
       "      <td>1</td>\n",
       "      <td>0</td>\n",
       "      <td>1.0</td>\n",
       "    </tr>\n",
       "    <tr>\n",
       "      <th>149932</th>\n",
       "      <td>0</td>\n",
       "      <td>0.005859</td>\n",
       "      <td>66</td>\n",
       "      <td>0</td>\n",
       "      <td>1479.0</td>\n",
       "      <td>NaN</td>\n",
       "      <td>10</td>\n",
       "      <td>0</td>\n",
       "      <td>1</td>\n",
       "      <td>0</td>\n",
       "      <td>0.0</td>\n",
       "    </tr>\n",
       "    <tr>\n",
       "      <th>149933</th>\n",
       "      <td>0</td>\n",
       "      <td>0.807021</td>\n",
       "      <td>59</td>\n",
       "      <td>0</td>\n",
       "      <td>5467.0</td>\n",
       "      <td>NaN</td>\n",
       "      <td>19</td>\n",
       "      <td>0</td>\n",
       "      <td>2</td>\n",
       "      <td>0</td>\n",
       "      <td>0.0</td>\n",
       "    </tr>\n",
       "    <tr>\n",
       "      <th>149936</th>\n",
       "      <td>0</td>\n",
       "      <td>1.000000</td>\n",
       "      <td>61</td>\n",
       "      <td>0</td>\n",
       "      <td>5.0</td>\n",
       "      <td>NaN</td>\n",
       "      <td>1</td>\n",
       "      <td>0</td>\n",
       "      <td>0</td>\n",
       "      <td>1</td>\n",
       "      <td>0.0</td>\n",
       "    </tr>\n",
       "    <tr>\n",
       "      <th>149941</th>\n",
       "      <td>1</td>\n",
       "      <td>0.847041</td>\n",
       "      <td>47</td>\n",
       "      <td>0</td>\n",
       "      <td>432.0</td>\n",
       "      <td>NaN</td>\n",
       "      <td>6</td>\n",
       "      <td>0</td>\n",
       "      <td>0</td>\n",
       "      <td>0</td>\n",
       "      <td>0.0</td>\n",
       "    </tr>\n",
       "    <tr>\n",
       "      <th>149947</th>\n",
       "      <td>0</td>\n",
       "      <td>0.923845</td>\n",
       "      <td>38</td>\n",
       "      <td>0</td>\n",
       "      <td>21.0</td>\n",
       "      <td>NaN</td>\n",
       "      <td>2</td>\n",
       "      <td>0</td>\n",
       "      <td>0</td>\n",
       "      <td>0</td>\n",
       "      <td>0.0</td>\n",
       "    </tr>\n",
       "    <tr>\n",
       "      <th>149949</th>\n",
       "      <td>0</td>\n",
       "      <td>0.055530</td>\n",
       "      <td>27</td>\n",
       "      <td>0</td>\n",
       "      <td>10.0</td>\n",
       "      <td>NaN</td>\n",
       "      <td>1</td>\n",
       "      <td>0</td>\n",
       "      <td>0</td>\n",
       "      <td>0</td>\n",
       "      <td>NaN</td>\n",
       "    </tr>\n",
       "    <tr>\n",
       "      <th>149953</th>\n",
       "      <td>0</td>\n",
       "      <td>0.019785</td>\n",
       "      <td>58</td>\n",
       "      <td>0</td>\n",
       "      <td>1328.0</td>\n",
       "      <td>NaN</td>\n",
       "      <td>6</td>\n",
       "      <td>0</td>\n",
       "      <td>1</td>\n",
       "      <td>0</td>\n",
       "      <td>2.0</td>\n",
       "    </tr>\n",
       "    <tr>\n",
       "      <th>149954</th>\n",
       "      <td>0</td>\n",
       "      <td>0.231488</td>\n",
       "      <td>41</td>\n",
       "      <td>0</td>\n",
       "      <td>1198.0</td>\n",
       "      <td>NaN</td>\n",
       "      <td>3</td>\n",
       "      <td>0</td>\n",
       "      <td>1</td>\n",
       "      <td>0</td>\n",
       "      <td>0.0</td>\n",
       "    </tr>\n",
       "    <tr>\n",
       "      <th>149959</th>\n",
       "      <td>0</td>\n",
       "      <td>0.457101</td>\n",
       "      <td>63</td>\n",
       "      <td>0</td>\n",
       "      <td>4945.0</td>\n",
       "      <td>NaN</td>\n",
       "      <td>9</td>\n",
       "      <td>0</td>\n",
       "      <td>1</td>\n",
       "      <td>0</td>\n",
       "      <td>0.0</td>\n",
       "    </tr>\n",
       "    <tr>\n",
       "      <th>149961</th>\n",
       "      <td>0</td>\n",
       "      <td>0.000000</td>\n",
       "      <td>49</td>\n",
       "      <td>0</td>\n",
       "      <td>353.0</td>\n",
       "      <td>NaN</td>\n",
       "      <td>2</td>\n",
       "      <td>0</td>\n",
       "      <td>0</td>\n",
       "      <td>0</td>\n",
       "      <td>0.0</td>\n",
       "    </tr>\n",
       "    <tr>\n",
       "      <th>149964</th>\n",
       "      <td>0</td>\n",
       "      <td>0.230353</td>\n",
       "      <td>61</td>\n",
       "      <td>0</td>\n",
       "      <td>883.0</td>\n",
       "      <td>NaN</td>\n",
       "      <td>15</td>\n",
       "      <td>0</td>\n",
       "      <td>0</td>\n",
       "      <td>0</td>\n",
       "      <td>2.0</td>\n",
       "    </tr>\n",
       "    <tr>\n",
       "      <th>149966</th>\n",
       "      <td>0</td>\n",
       "      <td>1.000000</td>\n",
       "      <td>27</td>\n",
       "      <td>0</td>\n",
       "      <td>98.0</td>\n",
       "      <td>NaN</td>\n",
       "      <td>2</td>\n",
       "      <td>0</td>\n",
       "      <td>0</td>\n",
       "      <td>0</td>\n",
       "      <td>NaN</td>\n",
       "    </tr>\n",
       "    <tr>\n",
       "      <th>149968</th>\n",
       "      <td>0</td>\n",
       "      <td>0.977899</td>\n",
       "      <td>63</td>\n",
       "      <td>0</td>\n",
       "      <td>517.0</td>\n",
       "      <td>NaN</td>\n",
       "      <td>5</td>\n",
       "      <td>0</td>\n",
       "      <td>0</td>\n",
       "      <td>1</td>\n",
       "      <td>0.0</td>\n",
       "    </tr>\n",
       "    <tr>\n",
       "      <th>149976</th>\n",
       "      <td>0</td>\n",
       "      <td>0.022088</td>\n",
       "      <td>58</td>\n",
       "      <td>0</td>\n",
       "      <td>2716.0</td>\n",
       "      <td>NaN</td>\n",
       "      <td>8</td>\n",
       "      <td>0</td>\n",
       "      <td>2</td>\n",
       "      <td>0</td>\n",
       "      <td>0.0</td>\n",
       "    </tr>\n",
       "    <tr>\n",
       "      <th>149977</th>\n",
       "      <td>0</td>\n",
       "      <td>0.000627</td>\n",
       "      <td>76</td>\n",
       "      <td>0</td>\n",
       "      <td>60.0</td>\n",
       "      <td>NaN</td>\n",
       "      <td>5</td>\n",
       "      <td>0</td>\n",
       "      <td>0</td>\n",
       "      <td>0</td>\n",
       "      <td>0.0</td>\n",
       "    </tr>\n",
       "    <tr>\n",
       "      <th>149978</th>\n",
       "      <td>0</td>\n",
       "      <td>0.236450</td>\n",
       "      <td>29</td>\n",
       "      <td>0</td>\n",
       "      <td>349.0</td>\n",
       "      <td>NaN</td>\n",
       "      <td>3</td>\n",
       "      <td>0</td>\n",
       "      <td>0</td>\n",
       "      <td>0</td>\n",
       "      <td>0.0</td>\n",
       "    </tr>\n",
       "    <tr>\n",
       "      <th>149985</th>\n",
       "      <td>0</td>\n",
       "      <td>0.037548</td>\n",
       "      <td>84</td>\n",
       "      <td>0</td>\n",
       "      <td>25.0</td>\n",
       "      <td>NaN</td>\n",
       "      <td>5</td>\n",
       "      <td>0</td>\n",
       "      <td>0</td>\n",
       "      <td>0</td>\n",
       "      <td>0.0</td>\n",
       "    </tr>\n",
       "    <tr>\n",
       "      <th>149993</th>\n",
       "      <td>0</td>\n",
       "      <td>0.871976</td>\n",
       "      <td>50</td>\n",
       "      <td>0</td>\n",
       "      <td>4132.0</td>\n",
       "      <td>NaN</td>\n",
       "      <td>11</td>\n",
       "      <td>0</td>\n",
       "      <td>1</td>\n",
       "      <td>0</td>\n",
       "      <td>3.0</td>\n",
       "    </tr>\n",
       "    <tr>\n",
       "      <th>149998</th>\n",
       "      <td>0</td>\n",
       "      <td>0.246044</td>\n",
       "      <td>58</td>\n",
       "      <td>0</td>\n",
       "      <td>3870.0</td>\n",
       "      <td>NaN</td>\n",
       "      <td>18</td>\n",
       "      <td>0</td>\n",
       "      <td>1</td>\n",
       "      <td>0</td>\n",
       "      <td>0.0</td>\n",
       "    </tr>\n",
       "  </tbody>\n",
       "</table>\n",
       "<p>29731 rows × 11 columns</p>\n",
       "</div>"
      ],
      "text/plain": [
       "        SeriousDlqin2yrs  RevolvingUtilizationOfUnsecuredLines  age  \\\n",
       "7                      0                              0.305682   57   \n",
       "9                      0                              0.116951   27   \n",
       "17                     0                              0.061086   78   \n",
       "33                     0                              0.083418   62   \n",
       "42                     0                              0.072898   81   \n",
       "53                     0                              1.000000   62   \n",
       "59                     0                              0.541109   43   \n",
       "63                     0                              0.101156   72   \n",
       "72                     0                              0.142013   67   \n",
       "87                     0                              0.360510   58   \n",
       "93                     0                              0.784836   52   \n",
       "97                     0                              0.542243   48   \n",
       "101                    0                              0.013025   61   \n",
       "110                    0                              0.041258   61   \n",
       "116                    0                              0.007508   74   \n",
       "119                    0                              0.007521   68   \n",
       "125                    0                              0.277957   39   \n",
       "131                    0                              0.175728   43   \n",
       "142                    0                              0.576519   72   \n",
       "144                    0                              0.362484   27   \n",
       "160                    0                              0.000000   63   \n",
       "162                    0                              0.070772   38   \n",
       "167                    0                              0.081380   63   \n",
       "172                    0                              1.000000   29   \n",
       "180                    1                              0.946964   35   \n",
       "182                    0                              0.055549   65   \n",
       "184                    0                              0.184987   55   \n",
       "188                    0                              0.011210   86   \n",
       "193                    0                              0.000000   49   \n",
       "199                    0                              0.114869   35   \n",
       "...                  ...                                   ...  ...   \n",
       "149893                 0                              0.901650   41   \n",
       "149895                 0                              0.017904   55   \n",
       "149898                 1                              1.019967   41   \n",
       "149899                 0                              1.000000   26   \n",
       "149913                 0                              0.052186   71   \n",
       "149916                 0                              0.208988   76   \n",
       "149919                 0                              0.015699   77   \n",
       "149922                 0                              0.031838   67   \n",
       "149923                 0                              0.761465   41   \n",
       "149924                 0                              0.245212   62   \n",
       "149925                 1                              0.673699   62   \n",
       "149932                 0                              0.005859   66   \n",
       "149933                 0                              0.807021   59   \n",
       "149936                 0                              1.000000   61   \n",
       "149941                 1                              0.847041   47   \n",
       "149947                 0                              0.923845   38   \n",
       "149949                 0                              0.055530   27   \n",
       "149953                 0                              0.019785   58   \n",
       "149954                 0                              0.231488   41   \n",
       "149959                 0                              0.457101   63   \n",
       "149961                 0                              0.000000   49   \n",
       "149964                 0                              0.230353   61   \n",
       "149966                 0                              1.000000   27   \n",
       "149968                 0                              0.977899   63   \n",
       "149976                 0                              0.022088   58   \n",
       "149977                 0                              0.000627   76   \n",
       "149978                 0                              0.236450   29   \n",
       "149985                 0                              0.037548   84   \n",
       "149993                 0                              0.871976   50   \n",
       "149998                 0                              0.246044   58   \n",
       "\n",
       "        NumberOfTime30-59DaysPastDueNotWorse  DebtRatio  MonthlyIncome  \\\n",
       "7                                          0     5710.0            NaN   \n",
       "9                                          0       46.0            NaN   \n",
       "17                                         0     2058.0            NaN   \n",
       "33                                         0      977.0            NaN   \n",
       "42                                         0       75.0            NaN   \n",
       "53                                         0        0.0            NaN   \n",
       "59                                         0     2477.0            NaN   \n",
       "63                                         0     1720.0            NaN   \n",
       "72                                         0     1824.0            NaN   \n",
       "87                                         1     3282.0            NaN   \n",
       "93                                         0     2662.0            NaN   \n",
       "97                                         2       10.0            NaN   \n",
       "101                                        0       15.0            NaN   \n",
       "110                                        0     4739.0            NaN   \n",
       "116                                        0        7.0            NaN   \n",
       "119                                        0      269.0            NaN   \n",
       "125                                        0     4090.0            NaN   \n",
       "131                                        1      994.0            NaN   \n",
       "142                                        0     3031.0            NaN   \n",
       "144                                        0      567.0            NaN   \n",
       "160                                        0        2.0            NaN   \n",
       "162                                        0     2088.0            NaN   \n",
       "167                                        0     1268.0            NaN   \n",
       "172                                        0      974.0            NaN   \n",
       "180                                        0     1593.0            NaN   \n",
       "182                                        0     2177.0            NaN   \n",
       "184                                        4     3144.0            NaN   \n",
       "188                                        0       13.0            NaN   \n",
       "193                                        0     2932.0            NaN   \n",
       "199                                        0      103.0            NaN   \n",
       "...                                      ...        ...            ...   \n",
       "149893                                     1     1421.0            NaN   \n",
       "149895                                     0     1058.0            NaN   \n",
       "149898                                     1     1456.0            NaN   \n",
       "149899                                     1        0.0            NaN   \n",
       "149913                                     0       16.0            NaN   \n",
       "149916                                     0     1903.0            NaN   \n",
       "149919                                     0        9.0            NaN   \n",
       "149922                                     0     1182.0            NaN   \n",
       "149923                                     0     6114.0            NaN   \n",
       "149924                                     0     3720.0            NaN   \n",
       "149925                                     1     3653.0            NaN   \n",
       "149932                                     0     1479.0            NaN   \n",
       "149933                                     0     5467.0            NaN   \n",
       "149936                                     0        5.0            NaN   \n",
       "149941                                     0      432.0            NaN   \n",
       "149947                                     0       21.0            NaN   \n",
       "149949                                     0       10.0            NaN   \n",
       "149953                                     0     1328.0            NaN   \n",
       "149954                                     0     1198.0            NaN   \n",
       "149959                                     0     4945.0            NaN   \n",
       "149961                                     0      353.0            NaN   \n",
       "149964                                     0      883.0            NaN   \n",
       "149966                                     0       98.0            NaN   \n",
       "149968                                     0      517.0            NaN   \n",
       "149976                                     0     2716.0            NaN   \n",
       "149977                                     0       60.0            NaN   \n",
       "149978                                     0      349.0            NaN   \n",
       "149985                                     0       25.0            NaN   \n",
       "149993                                     0     4132.0            NaN   \n",
       "149998                                     0     3870.0            NaN   \n",
       "\n",
       "        NumberOfOpenCreditLinesAndLoans  NumberOfTimes90DaysLate  \\\n",
       "7                                     8                        0   \n",
       "9                                     2                        0   \n",
       "17                                   10                        0   \n",
       "33                                    6                        0   \n",
       "42                                    7                        0   \n",
       "53                                    1                        0   \n",
       "59                                    3                        0   \n",
       "63                                   12                        0   \n",
       "72                                    7                        0   \n",
       "87                                    8                        0   \n",
       "93                                   10                        0   \n",
       "97                                    2                        0   \n",
       "101                                   4                        0   \n",
       "110                                  11                        0   \n",
       "116                                   4                        0   \n",
       "119                                   4                        0   \n",
       "125                                   9                        0   \n",
       "131                                   4                        0   \n",
       "142                                  11                        0   \n",
       "144                                   4                        0   \n",
       "160                                   4                        0   \n",
       "162                                   6                        0   \n",
       "167                                   8                        0   \n",
       "172                                   2                        0   \n",
       "180                                   6                        0   \n",
       "182                                   6                        0   \n",
       "184                                  11                        0   \n",
       "188                                   3                        0   \n",
       "193                                  11                        0   \n",
       "199                                   6                        0   \n",
       "...                                 ...                      ...   \n",
       "149893                               12                        0   \n",
       "149895                                8                        0   \n",
       "149898                                4                        0   \n",
       "149899                                0                        1   \n",
       "149913                                2                        0   \n",
       "149916                               10                        0   \n",
       "149919                                2                        0   \n",
       "149922                                5                        0   \n",
       "149923                               19                        0   \n",
       "149924                               16                        0   \n",
       "149925                               16                        0   \n",
       "149932                               10                        0   \n",
       "149933                               19                        0   \n",
       "149936                                1                        0   \n",
       "149941                                6                        0   \n",
       "149947                                2                        0   \n",
       "149949                                1                        0   \n",
       "149953                                6                        0   \n",
       "149954                                3                        0   \n",
       "149959                                9                        0   \n",
       "149961                                2                        0   \n",
       "149964                               15                        0   \n",
       "149966                                2                        0   \n",
       "149968                                5                        0   \n",
       "149976                                8                        0   \n",
       "149977                                5                        0   \n",
       "149978                                3                        0   \n",
       "149985                                5                        0   \n",
       "149993                               11                        0   \n",
       "149998                               18                        0   \n",
       "\n",
       "        NumberRealEstateLoansOrLines  NumberOfTime60-89DaysPastDueNotWorse  \\\n",
       "7                                  3                                     0   \n",
       "9                                  0                                     0   \n",
       "17                                 2                                     0   \n",
       "33                                 1                                     0   \n",
       "42                                 0                                     0   \n",
       "53                                 0                                     0   \n",
       "59                                 1                                     0   \n",
       "63                                 2                                     0   \n",
       "72                                 2                                     0   \n",
       "87                                 2                                     0   \n",
       "93                                 2                                     1   \n",
       "97                                 0                                     0   \n",
       "101                                0                                     0   \n",
       "110                                4                                     0   \n",
       "116                                0                                     0   \n",
       "119                                0                                     0   \n",
       "125                                2                                     0   \n",
       "131                                1                                     0   \n",
       "142                                1                                     0   \n",
       "144                                0                                     0   \n",
       "160                                0                                     0   \n",
       "162                                1                                     0   \n",
       "167                                1                                     0   \n",
       "172                                0                                     0   \n",
       "180                                1                                     0   \n",
       "182                                1                                     0   \n",
       "184                                1                                     0   \n",
       "188                                0                                     0   \n",
       "193                                1                                     0   \n",
       "199                                0                                     0   \n",
       "...                              ...                                   ...   \n",
       "149893                             0                                     0   \n",
       "149895                             1                                     1   \n",
       "149898                             1                                     0   \n",
       "149899                             0                                     0   \n",
       "149913                             0                                     0   \n",
       "149916                             2                                     0   \n",
       "149919                             0                                     0   \n",
       "149922                             1                                     0   \n",
       "149923                             1                                     0   \n",
       "149924                             2                                     0   \n",
       "149925                             1                                     0   \n",
       "149932                             1                                     0   \n",
       "149933                             2                                     0   \n",
       "149936                             0                                     1   \n",
       "149941                             0                                     0   \n",
       "149947                             0                                     0   \n",
       "149949                             0                                     0   \n",
       "149953                             1                                     0   \n",
       "149954                             1                                     0   \n",
       "149959                             1                                     0   \n",
       "149961                             0                                     0   \n",
       "149964                             0                                     0   \n",
       "149966                             0                                     0   \n",
       "149968                             0                                     1   \n",
       "149976                             2                                     0   \n",
       "149977                             0                                     0   \n",
       "149978                             0                                     0   \n",
       "149985                             0                                     0   \n",
       "149993                             1                                     0   \n",
       "149998                             1                                     0   \n",
       "\n",
       "        NumberOfDependents  \n",
       "7                      0.0  \n",
       "9                      NaN  \n",
       "17                     0.0  \n",
       "33                     0.0  \n",
       "42                     0.0  \n",
       "53                     0.0  \n",
       "59                     2.0  \n",
       "63                     0.0  \n",
       "72                     0.0  \n",
       "87                     0.0  \n",
       "93                     0.0  \n",
       "97                     NaN  \n",
       "101                    0.0  \n",
       "110                    NaN  \n",
       "116                    0.0  \n",
       "119                    0.0  \n",
       "125                    0.0  \n",
       "131                    0.0  \n",
       "142                    0.0  \n",
       "144                    0.0  \n",
       "160                    NaN  \n",
       "162                    0.0  \n",
       "167                    0.0  \n",
       "172                    0.0  \n",
       "180                    1.0  \n",
       "182                    1.0  \n",
       "184                    0.0  \n",
       "188                    0.0  \n",
       "193                    0.0  \n",
       "199                    0.0  \n",
       "...                    ...  \n",
       "149893                 0.0  \n",
       "149895                 NaN  \n",
       "149898                 0.0  \n",
       "149899                 0.0  \n",
       "149913                 0.0  \n",
       "149916                 0.0  \n",
       "149919                 0.0  \n",
       "149922                 0.0  \n",
       "149923                 2.0  \n",
       "149924                 0.0  \n",
       "149925                 1.0  \n",
       "149932                 0.0  \n",
       "149933                 0.0  \n",
       "149936                 0.0  \n",
       "149941                 0.0  \n",
       "149947                 0.0  \n",
       "149949                 NaN  \n",
       "149953                 2.0  \n",
       "149954                 0.0  \n",
       "149959                 0.0  \n",
       "149961                 0.0  \n",
       "149964                 2.0  \n",
       "149966                 NaN  \n",
       "149968                 0.0  \n",
       "149976                 0.0  \n",
       "149977                 0.0  \n",
       "149978                 0.0  \n",
       "149985                 0.0  \n",
       "149993                 3.0  \n",
       "149998                 0.0  \n",
       "\n",
       "[29731 rows x 11 columns]"
      ]
     },
     "execution_count": 14,
     "metadata": {},
     "output_type": "execute_result"
    }
   ],
   "source": [
    "data[data['MonthlyIncome'].isnull()]"
   ]
  },
  {
   "cell_type": "code",
   "execution_count": 15,
   "metadata": {
    "collapsed": true
   },
   "outputs": [],
   "source": [
    "# help(data)"
   ]
  },
  {
   "cell_type": "code",
   "execution_count": 16,
   "metadata": {
    "collapsed": true
   },
   "outputs": [],
   "source": [
    "X['MissingIncome'] = X['MonthlyIncome'].isnull().apply(lambda b: int(b))"
   ]
  },
  {
   "cell_type": "code",
   "execution_count": 17,
   "metadata": {
    "collapsed": true
   },
   "outputs": [],
   "source": [
    "# help(X['MonthlyIncome'].isnull().apply)"
   ]
  },
  {
   "cell_type": "code",
   "execution_count": 18,
   "metadata": {
    "collapsed": true
   },
   "outputs": [],
   "source": [
    "# X['MissingIncome']"
   ]
  },
  {
   "cell_type": "code",
   "execution_count": 19,
   "metadata": {
    "collapsed": true
   },
   "outputs": [],
   "source": [
    "# X[X['MonthlyIncome'].isnull()]['MonthlyIncome'] = -1"
   ]
  },
  {
   "cell_type": "code",
   "execution_count": 20,
   "metadata": {
    "collapsed": true
   },
   "outputs": [],
   "source": [
    "def replace_nan_minusl(x):\n",
    "    if pd.isnull(x):\n",
    "        return -1\n",
    "    else:\n",
    "        return x"
   ]
  },
  {
   "cell_type": "code",
   "execution_count": 21,
   "metadata": {
    "collapsed": true
   },
   "outputs": [],
   "source": [
    "X['MonthlyIncome'] = X['MonthlyIncome'].apply(replace_nan_minusl)"
   ]
  },
  {
   "cell_type": "code",
   "execution_count": 22,
   "metadata": {},
   "outputs": [
    {
     "data": {
      "text/plain": [
       "count    146076.000000\n",
       "mean          0.757222\n",
       "std           1.115086\n",
       "min           0.000000\n",
       "25%           0.000000\n",
       "50%           0.000000\n",
       "75%           1.000000\n",
       "max          20.000000\n",
       "Name: NumberOfDependents, dtype: float64"
      ]
     },
     "execution_count": 22,
     "metadata": {},
     "output_type": "execute_result"
    }
   ],
   "source": [
    "X['NumberOfDependents'].describe()"
   ]
  },
  {
   "cell_type": "code",
   "execution_count": 23,
   "metadata": {},
   "outputs": [
    {
     "data": {
      "text/plain": [
       "0.0     86902\n",
       "1.0     26316\n",
       "2.0     19522\n",
       "3.0      9483\n",
       "4.0      2862\n",
       "5.0       746\n",
       "6.0       158\n",
       "7.0        51\n",
       "8.0        24\n",
       "9.0         5\n",
       "10.0        5\n",
       "13.0        1\n",
       "20.0        1\n",
       "Name: NumberOfDependents, dtype: int64"
      ]
     },
     "execution_count": 23,
     "metadata": {},
     "output_type": "execute_result"
    }
   ],
   "source": [
    "X['NumberOfDependents'].value_counts()"
   ]
  },
  {
   "cell_type": "code",
   "execution_count": 24,
   "metadata": {},
   "outputs": [
    {
     "data": {
      "text/plain": [
       "RevolvingUtilizationOfUnsecuredLines    150000\n",
       "age                                     150000\n",
       "NumberOfTime30-59DaysPastDueNotWorse    150000\n",
       "DebtRatio                               150000\n",
       "MonthlyIncome                           150000\n",
       "NumberOfOpenCreditLinesAndLoans         150000\n",
       "NumberOfTimes90DaysLate                 150000\n",
       "NumberRealEstateLoansOrLines            150000\n",
       "NumberOfTime60-89DaysPastDueNotWorse    150000\n",
       "NumberOfDependents                      146076\n",
       "MissingIncome                           150000\n",
       "dtype: int64"
      ]
     },
     "execution_count": 24,
     "metadata": {},
     "output_type": "execute_result"
    }
   ],
   "source": [
    "X.count()"
   ]
  },
  {
   "cell_type": "code",
   "execution_count": 25,
   "metadata": {
    "collapsed": true
   },
   "outputs": [],
   "source": [
    "def replace_nan_by_c(x, c):\n",
    "    if pd.isnull(x):\n",
    "        return c\n",
    "    else:\n",
    "        return x"
   ]
  },
  {
   "cell_type": "code",
   "execution_count": 26,
   "metadata": {
    "collapsed": true
   },
   "outputs": [],
   "source": [
    "X['NumberOfDependents']= X['NumberOfDependents'].apply(lambda x : replace_nan_by_c(x,0))"
   ]
  },
  {
   "cell_type": "code",
   "execution_count": 27,
   "metadata": {},
   "outputs": [
    {
     "data": {
      "text/plain": [
       "RevolvingUtilizationOfUnsecuredLines    150000\n",
       "age                                     150000\n",
       "NumberOfTime30-59DaysPastDueNotWorse    150000\n",
       "DebtRatio                               150000\n",
       "MonthlyIncome                           150000\n",
       "NumberOfOpenCreditLinesAndLoans         150000\n",
       "NumberOfTimes90DaysLate                 150000\n",
       "NumberRealEstateLoansOrLines            150000\n",
       "NumberOfTime60-89DaysPastDueNotWorse    150000\n",
       "NumberOfDependents                      150000\n",
       "MissingIncome                           150000\n",
       "dtype: int64"
      ]
     },
     "execution_count": 27,
     "metadata": {},
     "output_type": "execute_result"
    }
   ],
   "source": [
    "X.count()"
   ]
  },
  {
   "cell_type": "code",
   "execution_count": 28,
   "metadata": {},
   "outputs": [
    {
     "data": {
      "text/plain": [
       "RevolvingUtilizationOfUnsecuredLines    float64\n",
       "age                                       int64\n",
       "NumberOfTime30-59DaysPastDueNotWorse      int64\n",
       "DebtRatio                               float64\n",
       "MonthlyIncome                           float64\n",
       "NumberOfOpenCreditLinesAndLoans           int64\n",
       "NumberOfTimes90DaysLate                   int64\n",
       "NumberRealEstateLoansOrLines              int64\n",
       "NumberOfTime60-89DaysPastDueNotWorse      int64\n",
       "NumberOfDependents                      float64\n",
       "MissingIncome                             int64\n",
       "dtype: object"
      ]
     },
     "execution_count": 28,
     "metadata": {},
     "output_type": "execute_result"
    }
   ],
   "source": [
    "X.dtypes"
   ]
  },
  {
   "cell_type": "code",
   "execution_count": 29,
   "metadata": {
    "collapsed": true
   },
   "outputs": [],
   "source": [
    "# data"
   ]
  },
  {
   "cell_type": "markdown",
   "metadata": {},
   "source": [
    "## Train models"
   ]
  },
  {
   "cell_type": "code",
   "execution_count": 30,
   "metadata": {
    "collapsed": true
   },
   "outputs": [],
   "source": [
    "import sklearn\n",
    "from sklearn.linear_model import LinearRegression"
   ]
  },
  {
   "cell_type": "code",
   "execution_count": 31,
   "metadata": {
    "collapsed": true
   },
   "outputs": [],
   "source": [
    "lr = LinearRegression()"
   ]
  },
  {
   "cell_type": "code",
   "execution_count": 32,
   "metadata": {},
   "outputs": [
    {
     "data": {
      "text/plain": [
       "LinearRegression(copy_X=True, fit_intercept=True, n_jobs=1, normalize=False)"
      ]
     },
     "execution_count": 32,
     "metadata": {},
     "output_type": "execute_result"
    }
   ],
   "source": [
    "lr.fit(X,Y)"
   ]
  },
  {
   "cell_type": "code",
   "execution_count": 33,
   "metadata": {},
   "outputs": [
    {
     "data": {
      "text/plain": [
       "array([ 0.16965249,  0.08015535,  0.17849261, ...,  0.03313217,\n",
       "        0.0901498 ,  0.03437346])"
      ]
     },
     "execution_count": 33,
     "metadata": {},
     "output_type": "execute_result"
    }
   ],
   "source": [
    "lr.predict(X)"
   ]
  },
  {
   "cell_type": "code",
   "execution_count": 34,
   "metadata": {},
   "outputs": [
    {
     "data": {
      "text/plain": [
       "-0.85373969008960571"
      ]
     },
     "execution_count": 34,
     "metadata": {},
     "output_type": "execute_result"
    }
   ],
   "source": [
    "min(lr.predict(X))"
   ]
  },
  {
   "cell_type": "code",
   "execution_count": 35,
   "metadata": {},
   "outputs": [
    {
     "data": {
      "text/plain": [
       "0.90882335545728532"
      ]
     },
     "execution_count": 35,
     "metadata": {},
     "output_type": "execute_result"
    }
   ],
   "source": [
    "max(lr.predict(X))"
   ]
  },
  {
   "cell_type": "markdown",
   "metadata": {},
   "source": [
    "###### Set the threathhold"
   ]
  },
  {
   "cell_type": "code",
   "execution_count": 36,
   "metadata": {
    "collapsed": true
   },
   "outputs": [],
   "source": [
    "thre = .5\n",
    "ypredict = (lr.predict(X) < thre).astype(int)"
   ]
  },
  {
   "cell_type": "code",
   "execution_count": 37,
   "metadata": {},
   "outputs": [
    {
     "data": {
      "text/plain": [
       "0"
      ]
     },
     "execution_count": 37,
     "metadata": {},
     "output_type": "execute_result"
    }
   ],
   "source": [
    "min(ypredict)"
   ]
  },
  {
   "cell_type": "code",
   "execution_count": 38,
   "metadata": {},
   "outputs": [
    {
     "data": {
      "text/plain": [
       "1"
      ]
     },
     "execution_count": 38,
     "metadata": {},
     "output_type": "execute_result"
    }
   ],
   "source": [
    "max(ypredict)"
   ]
  },
  {
   "cell_type": "code",
   "execution_count": 39,
   "metadata": {},
   "outputs": [
    {
     "data": {
      "text/plain": [
       "numpy.ndarray"
      ]
     },
     "execution_count": 39,
     "metadata": {},
     "output_type": "execute_result"
    }
   ],
   "source": [
    "type(lr.predict(X) < thre)"
   ]
  },
  {
   "cell_type": "markdown",
   "metadata": {},
   "source": [
    "## Predict"
   ]
  },
  {
   "cell_type": "code",
   "execution_count": 40,
   "metadata": {
    "collapsed": true
   },
   "outputs": [],
   "source": [
    "Xtest = pd.read_csv(datapath + 'cs-test.csv').drop('SeriousDlqin2yrs', axis = 1) "
   ]
  },
  {
   "cell_type": "code",
   "execution_count": 41,
   "metadata": {
    "collapsed": true
   },
   "outputs": [],
   "source": [
    "# Xtest.index"
   ]
  },
  {
   "cell_type": "code",
   "execution_count": 42,
   "metadata": {},
   "outputs": [
    {
     "data": {
      "text/plain": [
       "101503"
      ]
     },
     "execution_count": 42,
     "metadata": {},
     "output_type": "execute_result"
    }
   ],
   "source": [
    "len(Xtest)"
   ]
  },
  {
   "cell_type": "code",
   "execution_count": 43,
   "metadata": {
    "collapsed": true
   },
   "outputs": [],
   "source": [
    "# Xtest"
   ]
  },
  {
   "cell_type": "code",
   "execution_count": 44,
   "metadata": {},
   "outputs": [
    {
     "data": {
      "text/plain": [
       "Unnamed: 0                              101503\n",
       "RevolvingUtilizationOfUnsecuredLines    101503\n",
       "age                                     101503\n",
       "NumberOfTime30-59DaysPastDueNotWorse    101503\n",
       "DebtRatio                               101503\n",
       "MonthlyIncome                            81400\n",
       "NumberOfOpenCreditLinesAndLoans         101503\n",
       "NumberOfTimes90DaysLate                 101503\n",
       "NumberRealEstateLoansOrLines            101503\n",
       "NumberOfTime60-89DaysPastDueNotWorse    101503\n",
       "NumberOfDependents                       98877\n",
       "dtype: int64"
      ]
     },
     "execution_count": 44,
     "metadata": {},
     "output_type": "execute_result"
    }
   ],
   "source": [
    "Xtest.count()"
   ]
  },
  {
   "cell_type": "code",
   "execution_count": 45,
   "metadata": {
    "collapsed": true
   },
   "outputs": [],
   "source": [
    "ids = Xtest['Unnamed: 0']\n",
    "Xtest.drop('Unnamed: 0', axis=1, inplace=True)"
   ]
  },
  {
   "cell_type": "code",
   "execution_count": 46,
   "metadata": {
    "collapsed": true
   },
   "outputs": [],
   "source": [
    "Xtest['MissingIncome'] = Xtest['MonthlyIncome'].isnull().apply(lambda b: int(b))\n",
    "Xtest['MonthlyIncome'] = Xtest['MonthlyIncome'].apply(replace_nan_minusl)"
   ]
  },
  {
   "cell_type": "code",
   "execution_count": 47,
   "metadata": {
    "collapsed": true
   },
   "outputs": [],
   "source": [
    "Xtest['NumberOfDependents'] = Xtest['NumberOfDependents'].apply(lambda x: replace_nan_by_c(x,0))"
   ]
  },
  {
   "cell_type": "code",
   "execution_count": 48,
   "metadata": {
    "collapsed": true
   },
   "outputs": [],
   "source": [
    "ytest = (lr.predict(Xtest) < thre).astype(int)"
   ]
  },
  {
   "cell_type": "code",
   "execution_count": 49,
   "metadata": {},
   "outputs": [
    {
     "data": {
      "text/plain": [
       "(0, 1)"
      ]
     },
     "execution_count": 49,
     "metadata": {},
     "output_type": "execute_result"
    }
   ],
   "source": [
    "min(ytest), max(ytest)"
   ]
  },
  {
   "cell_type": "code",
   "execution_count": 50,
   "metadata": {
    "collapsed": true
   },
   "outputs": [],
   "source": [
    "Xtest['Id'] = ids\n",
    "Xtest['Probability'] = ytest\n",
    "preds = Xtest[['Id','Probability']]"
   ]
  },
  {
   "cell_type": "code",
   "execution_count": 60,
   "metadata": {
    "collapsed": true
   },
   "outputs": [],
   "source": [
    "preds.to_csv('our_prediction.csv', index = False)"
   ]
  },
  {
   "cell_type": "code",
   "execution_count": 61,
   "metadata": {
    "collapsed": true
   },
   "outputs": [],
   "source": [
    "# !head our_predictions.csv"
   ]
  },
  {
   "cell_type": "markdown",
   "metadata": {
    "collapsed": true
   },
   "source": [
    "## Logistic Regression"
   ]
  },
  {
   "cell_type": "code",
   "execution_count": 62,
   "metadata": {
    "collapsed": true
   },
   "outputs": [],
   "source": [
    "from sklearn.linear_model import LogisticRegression"
   ]
  },
  {
   "cell_type": "code",
   "execution_count": 63,
   "metadata": {
    "collapsed": true
   },
   "outputs": [],
   "source": [
    "logreg = LogisticRegression(verbose=1)"
   ]
  },
  {
   "cell_type": "code",
   "execution_count": 64,
   "metadata": {},
   "outputs": [
    {
     "name": "stdout",
     "output_type": "stream",
     "text": [
      "[LibLinear]"
     ]
    },
    {
     "data": {
      "text/plain": [
       "LogisticRegression(C=1.0, class_weight=None, dual=False, fit_intercept=True,\n",
       "          intercept_scaling=1, max_iter=100, multi_class='ovr', n_jobs=1,\n",
       "          penalty='l2', random_state=None, solver='liblinear', tol=0.0001,\n",
       "          verbose=1, warm_start=False)"
      ]
     },
     "execution_count": 64,
     "metadata": {},
     "output_type": "execute_result"
    }
   ],
   "source": [
    "logreg.fit(X,Y)"
   ]
  },
  {
   "cell_type": "markdown",
   "metadata": {},
   "source": [
    "#### memo\n",
    "C: $$ \\frac{1}{\\lambda} $$\n",
    "\n",
    "class_weight\n",
    "\n",
    "dual: dual or prime, refer to the textbook\n",
    "\n",
    "fit_intercept\n",
    "\n",
    "max_iter:\n",
    "\n",
    "multi_class:\n",
    "\n",
    "n_jobs: parallelize with several cores \"-1\": use core as much\n",
    "\n",
    "penalty:\n",
    "\n",
    "random_state: rondam initialization\n",
    "\n",
    "solver: liblinear is popular solver\n",
    "\n",
    "tol:\n",
    "\n",
    "verbose:\n",
    "\n",
    "warm_start: initialize parameter or start the parameter that we estimated\n"
   ]
  },
  {
   "cell_type": "code",
   "execution_count": 65,
   "metadata": {},
   "outputs": [
    {
     "ename": "ValueError",
     "evalue": "X has 13 features per sample; expecting 11",
     "output_type": "error",
     "traceback": [
      "\u001b[1;31m---------------------------------------------------------------------------\u001b[0m",
      "\u001b[1;31mValueError\u001b[0m                                Traceback (most recent call last)",
      "\u001b[1;32m<ipython-input-65-36bf1d7e9c41>\u001b[0m in \u001b[0;36m<module>\u001b[1;34m()\u001b[0m\n\u001b[1;32m----> 1\u001b[1;33m \u001b[0mlogregpreds\u001b[0m \u001b[1;33m=\u001b[0m \u001b[0mlogreg\u001b[0m\u001b[1;33m.\u001b[0m\u001b[0mpredict_proba\u001b[0m\u001b[1;33m(\u001b[0m\u001b[0mXtest\u001b[0m\u001b[1;33m)\u001b[0m\u001b[1;33m[\u001b[0m\u001b[1;33m:\u001b[0m\u001b[1;33m,\u001b[0m\u001b[1;36m1\u001b[0m\u001b[1;33m]\u001b[0m\u001b[1;33m\u001b[0m\u001b[0m\n\u001b[0m",
      "\u001b[1;32mC:\\Anaconda3\\lib\\site-packages\\sklearn\\linear_model\\logistic.py\u001b[0m in \u001b[0;36mpredict_proba\u001b[1;34m(self, X)\u001b[0m\n\u001b[0;32m   1284\u001b[0m         \u001b[0mcalculate_ovr\u001b[0m \u001b[1;33m=\u001b[0m \u001b[0mself\u001b[0m\u001b[1;33m.\u001b[0m\u001b[0mcoef_\u001b[0m\u001b[1;33m.\u001b[0m\u001b[0mshape\u001b[0m\u001b[1;33m[\u001b[0m\u001b[1;36m0\u001b[0m\u001b[1;33m]\u001b[0m \u001b[1;33m==\u001b[0m \u001b[1;36m1\u001b[0m \u001b[1;32mor\u001b[0m \u001b[0mself\u001b[0m\u001b[1;33m.\u001b[0m\u001b[0mmulti_class\u001b[0m \u001b[1;33m==\u001b[0m \u001b[1;34m\"ovr\"\u001b[0m\u001b[1;33m\u001b[0m\u001b[0m\n\u001b[0;32m   1285\u001b[0m         \u001b[1;32mif\u001b[0m \u001b[0mcalculate_ovr\u001b[0m\u001b[1;33m:\u001b[0m\u001b[1;33m\u001b[0m\u001b[0m\n\u001b[1;32m-> 1286\u001b[1;33m             \u001b[1;32mreturn\u001b[0m \u001b[0msuper\u001b[0m\u001b[1;33m(\u001b[0m\u001b[0mLogisticRegression\u001b[0m\u001b[1;33m,\u001b[0m \u001b[0mself\u001b[0m\u001b[1;33m)\u001b[0m\u001b[1;33m.\u001b[0m\u001b[0m_predict_proba_lr\u001b[0m\u001b[1;33m(\u001b[0m\u001b[0mX\u001b[0m\u001b[1;33m)\u001b[0m\u001b[1;33m\u001b[0m\u001b[0m\n\u001b[0m\u001b[0;32m   1287\u001b[0m         \u001b[1;32melse\u001b[0m\u001b[1;33m:\u001b[0m\u001b[1;33m\u001b[0m\u001b[0m\n\u001b[0;32m   1288\u001b[0m             \u001b[1;32mreturn\u001b[0m \u001b[0msoftmax\u001b[0m\u001b[1;33m(\u001b[0m\u001b[0mself\u001b[0m\u001b[1;33m.\u001b[0m\u001b[0mdecision_function\u001b[0m\u001b[1;33m(\u001b[0m\u001b[0mX\u001b[0m\u001b[1;33m)\u001b[0m\u001b[1;33m,\u001b[0m \u001b[0mcopy\u001b[0m\u001b[1;33m=\u001b[0m\u001b[1;32mFalse\u001b[0m\u001b[1;33m)\u001b[0m\u001b[1;33m\u001b[0m\u001b[0m\n",
      "\u001b[1;32mC:\\Anaconda3\\lib\\site-packages\\sklearn\\linear_model\\base.py\u001b[0m in \u001b[0;36m_predict_proba_lr\u001b[1;34m(self, X)\u001b[0m\n\u001b[0;32m    348\u001b[0m         \u001b[0mmulticlass\u001b[0m \u001b[1;32mis\u001b[0m \u001b[0mhandled\u001b[0m \u001b[0mby\u001b[0m \u001b[0mnormalizing\u001b[0m \u001b[0mthat\u001b[0m \u001b[0mover\u001b[0m \u001b[0mall\u001b[0m \u001b[0mclasses\u001b[0m\u001b[1;33m.\u001b[0m\u001b[1;33m\u001b[0m\u001b[0m\n\u001b[0;32m    349\u001b[0m         \"\"\"\n\u001b[1;32m--> 350\u001b[1;33m         \u001b[0mprob\u001b[0m \u001b[1;33m=\u001b[0m \u001b[0mself\u001b[0m\u001b[1;33m.\u001b[0m\u001b[0mdecision_function\u001b[0m\u001b[1;33m(\u001b[0m\u001b[0mX\u001b[0m\u001b[1;33m)\u001b[0m\u001b[1;33m\u001b[0m\u001b[0m\n\u001b[0m\u001b[0;32m    351\u001b[0m         \u001b[0mprob\u001b[0m \u001b[1;33m*=\u001b[0m \u001b[1;33m-\u001b[0m\u001b[1;36m1\u001b[0m\u001b[1;33m\u001b[0m\u001b[0m\n\u001b[0;32m    352\u001b[0m         \u001b[0mnp\u001b[0m\u001b[1;33m.\u001b[0m\u001b[0mexp\u001b[0m\u001b[1;33m(\u001b[0m\u001b[0mprob\u001b[0m\u001b[1;33m,\u001b[0m \u001b[0mprob\u001b[0m\u001b[1;33m)\u001b[0m\u001b[1;33m\u001b[0m\u001b[0m\n",
      "\u001b[1;32mC:\\Anaconda3\\lib\\site-packages\\sklearn\\linear_model\\base.py\u001b[0m in \u001b[0;36mdecision_function\u001b[1;34m(self, X)\u001b[0m\n\u001b[0;32m    315\u001b[0m         \u001b[1;32mif\u001b[0m \u001b[0mX\u001b[0m\u001b[1;33m.\u001b[0m\u001b[0mshape\u001b[0m\u001b[1;33m[\u001b[0m\u001b[1;36m1\u001b[0m\u001b[1;33m]\u001b[0m \u001b[1;33m!=\u001b[0m \u001b[0mn_features\u001b[0m\u001b[1;33m:\u001b[0m\u001b[1;33m\u001b[0m\u001b[0m\n\u001b[0;32m    316\u001b[0m             raise ValueError(\"X has %d features per sample; expecting %d\"\n\u001b[1;32m--> 317\u001b[1;33m                              % (X.shape[1], n_features))\n\u001b[0m\u001b[0;32m    318\u001b[0m \u001b[1;33m\u001b[0m\u001b[0m\n\u001b[0;32m    319\u001b[0m         scores = safe_sparse_dot(X, self.coef_.T,\n",
      "\u001b[1;31mValueError\u001b[0m: X has 13 features per sample; expecting 11"
     ]
    }
   ],
   "source": [
    "logregpreds = logreg.predict_proba(Xtest)[:,1]"
   ]
  }
 ],
 "metadata": {
  "kernelspec": {
   "display_name": "Python 3",
   "language": "python",
   "name": "python3"
  },
  "language_info": {
   "codemirror_mode": {
    "name": "ipython",
    "version": 3
   },
   "file_extension": ".py",
   "mimetype": "text/x-python",
   "name": "python",
   "nbconvert_exporter": "python",
   "pygments_lexer": "ipython3",
   "version": "3.6.1"
  }
 },
 "nbformat": 4,
 "nbformat_minor": 2
}
