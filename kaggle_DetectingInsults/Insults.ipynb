{
 "cells": [
  {
   "cell_type": "markdown",
   "metadata": {},
   "source": [
    "Code by Xavier Conort - June 15"
   ]
  },
  {
   "cell_type": "markdown",
   "metadata": {},
   "source": [
    "# Extract Value from text"
   ]
  },
  {
   "cell_type": "markdown",
   "metadata": {},
   "source": [
    "We use here the dataset from the Kaggle Competition \"Detecting Insults in Social Commentary\" \n",
    "https://www.kaggle.com/c/detecting-insults-in-social-commentary\n",
    "\n",
    "The goal is to learn how to produce document term matrices with Sklearn"
   ]
  },
  {
   "cell_type": "markdown",
   "metadata": {},
   "source": [
    "# Read data"
   ]
  },
  {
   "cell_type": "code",
   "execution_count": 1,
   "metadata": {},
   "outputs": [],
   "source": [
    "import pandas as pd\n",
    "insults = pd.read_csv('insults_train.csv')\n",
    "test_data = pd.read_csv(\"test_with_solutions.csv\")"
   ]
  },
  {
   "cell_type": "code",
   "execution_count": 2,
   "metadata": {},
   "outputs": [],
   "source": [
    "import numpy as np\n",
    "y_train = np.array(insults.Insult)\n",
    "comments_train = np.array(insults.Comment)"
   ]
  },
  {
   "cell_type": "code",
   "execution_count": 3,
   "metadata": {},
   "outputs": [
    {
     "name": "stdout",
     "output_type": "stream",
     "text": [
      "\"You fuck your dad.\"\n",
      "Insult: 1\n"
     ]
    }
   ],
   "source": [
    "print(comments_train[0])\n",
    "print(\"Insult: %d\" % y_train[0])"
   ]
  },
  {
   "cell_type": "code",
   "execution_count": 4,
   "metadata": {},
   "outputs": [
    {
     "name": "stdout",
     "output_type": "stream",
     "text": [
      "\"@SDL OK, but I would hope they'd sign him to a one-year contract to start with. Give him the chance to be reliable and productive, but give themselves the out if all his time off has hurt his playing skills or if he falls back into old habits.\"\n",
      "Insult: 0\n"
     ]
    }
   ],
   "source": [
    "print(comments_train[5])\n",
    "print(\"Insult: %d\" % y_train[5])"
   ]
  },
  {
   "cell_type": "markdown",
   "metadata": {},
   "source": [
    "# Vectorizing the Data with bag of words"
   ]
  },
  {
   "cell_type": "code",
   "execution_count": 5,
   "metadata": {
    "collapsed": true
   },
   "outputs": [],
   "source": [
    "from sklearn.feature_extraction.text import CountVectorizer"
   ]
  },
  {
   "cell_type": "markdown",
   "metadata": {},
   "source": [
    "Use bag of words model as implemented in CountVectorizer.\n",
    "Extracts a dictionary, then counts word occurences."
   ]
  },
  {
   "cell_type": "code",
   "execution_count": 6,
   "metadata": {},
   "outputs": [
    {
     "name": "stdout",
     "output_type": "stream",
     "text": [
      "['00', '000', '01', '014', '01k4wu4w', '02', '034', '05', '06', '0612', '07', '075', '08', '09', '0bama']\n"
     ]
    }
   ],
   "source": [
    "cv = CountVectorizer()\n",
    "cv.fit(comments_train)\n",
    "print(cv.get_feature_names()[:15])"
   ]
  },
  {
   "cell_type": "code",
   "execution_count": 7,
   "metadata": {},
   "outputs": [
    {
     "data": {
      "text/plain": [
       "CountVectorizer(analyzer='word', binary=False, decode_error='strict',\n",
       "        dtype=<class 'numpy.int64'>, encoding='utf-8', input='content',\n",
       "        lowercase=True, max_df=1.0, max_features=None, min_df=1,\n",
       "        ngram_range=(1, 1), preprocessor=None, stop_words=None,\n",
       "        strip_accents=None, token_pattern='(?u)\\\\b\\\\w\\\\w+\\\\b',\n",
       "        tokenizer=None, vocabulary=None)"
      ]
     },
     "execution_count": 7,
     "metadata": {},
     "output_type": "execute_result"
    }
   ],
   "source": [
    "cv"
   ]
  },
  {
   "cell_type": "code",
   "execution_count": 8,
   "metadata": {},
   "outputs": [
    {
     "name": "stdout",
     "output_type": "stream",
     "text": [
      "['argue', 'argued', 'arguement', 'arguements', 'arguing', 'argument', 'arguments', 'aries', 'aristocracy', 'aritculett', 'arizona', 'arkan', 'arlington', 'arm', 'armando']\n"
     ]
    }
   ],
   "source": [
    "print(cv.get_feature_names()[1000:1015])"
   ]
  },
  {
   "cell_type": "code",
   "execution_count": 9,
   "metadata": {},
   "outputs": [
    {
     "name": "stdout",
     "output_type": "stream",
     "text": [
      "X_train.shape: (3947, 16469)\n",
      "  (0, 3409)\t1\n",
      "  (0, 5434)\t1\n",
      "  (0, 16397)\t1\n",
      "  (0, 16405)\t1\n"
     ]
    }
   ],
   "source": [
    "X_train = cv.transform(comments_train)\n",
    "print(\"X_train.shape: %s\" % str(X_train.shape))\n",
    "print(X_train[0, :])"
   ]
  },
  {
   "cell_type": "code",
   "execution_count": 10,
   "metadata": {},
   "outputs": [
    {
     "data": {
      "text/plain": [
       "<3947x16469 sparse matrix of type '<class 'numpy.int64'>'\n",
       "\twith 100269 stored elements in Compressed Sparse Row format>"
      ]
     },
     "execution_count": 10,
     "metadata": {},
     "output_type": "execute_result"
    }
   ],
   "source": [
    "cv.transform(comments_train)"
   ]
  },
  {
   "cell_type": "code",
   "execution_count": 11,
   "metadata": {},
   "outputs": [],
   "source": [
    "comments_test = np.array(test_data.Comment)\n",
    "y_test = np.array(test_data.Insult)\n",
    "X_test = cv.transform(comments_test)"
   ]
  },
  {
   "cell_type": "markdown",
   "metadata": {},
   "source": [
    "Fit Regularized Logistic regression"
   ]
  },
  {
   "cell_type": "code",
   "execution_count": 12,
   "metadata": {
    "collapsed": true
   },
   "outputs": [],
   "source": [
    "param_grid = {'C': [0.01, 0.03, 0.1, 0.3, 1, 3, 10, 30, 100] }"
   ]
  },
  {
   "cell_type": "code",
   "execution_count": 13,
   "metadata": {},
   "outputs": [
    {
     "name": "stderr",
     "output_type": "stream",
     "text": [
      "/Users/Gxav/anaconda/lib/python3.4/site-packages/sklearn/cross_validation.py:44: DeprecationWarning: This module was deprecated in version 0.18 in favor of the model_selection module into which all the refactored classes and functions are moved. Also note that the interface of the new CV iterators are different from that of this module. This module will be removed in 0.20.\n",
      "  \"This module will be removed in 0.20.\", DeprecationWarning)\n",
      "/Users/Gxav/anaconda/lib/python3.4/site-packages/sklearn/grid_search.py:43: DeprecationWarning: This module was deprecated in version 0.18 in favor of the model_selection module into which all the refactored classes and functions are moved. This module will be removed in 0.20.\n",
      "  DeprecationWarning)\n"
     ]
    }
   ],
   "source": [
    "from sklearn.linear_model import LogisticRegression\n",
    "from sklearn.grid_search import GridSearchCV"
   ]
  },
  {
   "cell_type": "code",
   "execution_count": 14,
   "metadata": {},
   "outputs": [
    {
     "data": {
      "text/plain": [
       "[mean: 0.82118, std: 0.00985, params: {'C': 0.01},\n",
       " mean: 0.84667, std: 0.00818, params: {'C': 0.03},\n",
       " mean: 0.86380, std: 0.00974, params: {'C': 0.1},\n",
       " mean: 0.87041, std: 0.01038, params: {'C': 0.3},\n",
       " mean: 0.87069, std: 0.01161, params: {'C': 1},\n",
       " mean: 0.86724, std: 0.01338, params: {'C': 3},\n",
       " mean: 0.86142, std: 0.01475, params: {'C': 10},\n",
       " mean: 0.85623, std: 0.01591, params: {'C': 30},\n",
       " mean: 0.85150, std: 0.01652, params: {'C': 100}]"
      ]
     },
     "execution_count": 14,
     "metadata": {},
     "output_type": "execute_result"
    }
   ],
   "source": [
    "logreg = GridSearchCV(LogisticRegression(penalty='l2'), param_grid,\n",
    "                      scoring='roc_auc', n_jobs=-1, cv=5)\n",
    "logreg.fit(X_train, y_train)\n",
    "logreg.grid_scores_"
   ]
  },
  {
   "cell_type": "code",
   "execution_count": 15,
   "metadata": {},
   "outputs": [
    {
     "data": {
      "text/plain": [
       "0.87100091424554071"
      ]
     },
     "execution_count": 15,
     "metadata": {},
     "output_type": "execute_result"
    }
   ],
   "source": [
    "from sklearn import metrics\n",
    "logreg_pred = logreg.predict_proba(X_test)[:,1]\n",
    "metrics.roc_auc_score(y_test, logreg_pred)"
   ]
  },
  {
   "cell_type": "markdown",
   "metadata": {},
   "source": [
    "# Try binary matrix"
   ]
  },
  {
   "cell_type": "code",
   "execution_count": 16,
   "metadata": {},
   "outputs": [
    {
     "data": {
      "text/plain": [
       "CountVectorizer(analyzer='word', binary=True, decode_error='strict',\n",
       "        dtype=<class 'numpy.int64'>, encoding='utf-8', input='content',\n",
       "        lowercase=True, max_df=1.0, max_features=None, min_df=1,\n",
       "        ngram_range=(1, 1), preprocessor=None, stop_words=None,\n",
       "        strip_accents=None, token_pattern='(?u)\\\\b\\\\w\\\\w+\\\\b',\n",
       "        tokenizer=None, vocabulary=None)"
      ]
     },
     "execution_count": 16,
     "metadata": {},
     "output_type": "execute_result"
    }
   ],
   "source": [
    "binary = CountVectorizer(binary=True)\n",
    "binary.fit(comments_train)"
   ]
  },
  {
   "cell_type": "code",
   "execution_count": 17,
   "metadata": {
    "collapsed": true
   },
   "outputs": [],
   "source": [
    "Xb_train = binary.transform(comments_train).tocsr()"
   ]
  },
  {
   "cell_type": "code",
   "execution_count": 18,
   "metadata": {},
   "outputs": [
    {
     "data": {
      "text/plain": [
       "[mean: 0.81432, std: 0.01566, params: {'C': 0.01},\n",
       " mean: 0.84606, std: 0.01163, params: {'C': 0.03},\n",
       " mean: 0.86499, std: 0.00918, params: {'C': 0.1},\n",
       " mean: 0.87296, std: 0.00961, params: {'C': 0.3},\n",
       " mean: 0.87389, std: 0.01195, params: {'C': 1},\n",
       " mean: 0.87055, std: 0.01355, params: {'C': 3},\n",
       " mean: 0.86492, std: 0.01524, params: {'C': 10},\n",
       " mean: 0.85929, std: 0.01682, params: {'C': 30},\n",
       " mean: 0.85389, std: 0.01807, params: {'C': 100}]"
      ]
     },
     "execution_count": 18,
     "metadata": {},
     "output_type": "execute_result"
    }
   ],
   "source": [
    "logreg_bin = GridSearchCV(LogisticRegression(penalty='l2'), param_grid,\n",
    "                      scoring='roc_auc', n_jobs=-1, cv=5)\n",
    "logreg_bin.fit(Xb_train, y_train)\n",
    "logreg_bin.grid_scores_"
   ]
  },
  {
   "cell_type": "code",
   "execution_count": 19,
   "metadata": {},
   "outputs": [
    {
     "data": {
      "text/plain": [
       "0.87771522802229041"
      ]
     },
     "execution_count": 19,
     "metadata": {},
     "output_type": "execute_result"
    }
   ],
   "source": [
    "Xb_test = binary.transform(comments_test).tocsr()\n",
    "logreg_bin_pred = logreg_bin.predict_proba(X_test)[:,1]\n",
    "metrics.roc_auc_score(y_test, logreg_bin_pred)"
   ]
  },
  {
   "cell_type": "markdown",
   "metadata": {},
   "source": [
    "# Try tfidf"
   ]
  },
  {
   "cell_type": "code",
   "execution_count": 20,
   "metadata": {},
   "outputs": [],
   "source": [
    "from sklearn.feature_extraction.text import TfidfVectorizer"
   ]
  },
  {
   "cell_type": "code",
   "execution_count": 21,
   "metadata": {},
   "outputs": [
    {
     "data": {
      "text/plain": [
       "TfidfVectorizer(analyzer='word', binary=False, decode_error='strict',\n",
       "        dtype=<class 'numpy.int64'>, encoding='utf-8', input='content',\n",
       "        lowercase=True, max_df=1.0, max_features=None, min_df=1,\n",
       "        ngram_range=(1, 1), norm='l2', preprocessor=None, smooth_idf=True,\n",
       "        stop_words=None, strip_accents=None, sublinear_tf=False,\n",
       "        token_pattern='(?u)\\\\b\\\\w\\\\w+\\\\b', tokenizer=None, use_idf=True,\n",
       "        vocabulary=None)"
      ]
     },
     "execution_count": 21,
     "metadata": {},
     "output_type": "execute_result"
    }
   ],
   "source": [
    "tfidf = TfidfVectorizer(binary=False)\n",
    "tfidf.fit(comments_train)"
   ]
  },
  {
   "cell_type": "code",
   "execution_count": 22,
   "metadata": {},
   "outputs": [
    {
     "data": {
      "text/plain": [
       "TfidfVectorizer(analyzer='word', binary=False, decode_error='strict',\n",
       "        dtype=<class 'numpy.int64'>, encoding='utf-8', input='content',\n",
       "        lowercase=True, max_df=1.0, max_features=None, min_df=1,\n",
       "        ngram_range=(1, 1), norm='l2', preprocessor=None, smooth_idf=True,\n",
       "        stop_words=None, strip_accents=None, sublinear_tf=False,\n",
       "        token_pattern='(?u)\\\\b\\\\w\\\\w+\\\\b', tokenizer=None, use_idf=True,\n",
       "        vocabulary=None)"
      ]
     },
     "execution_count": 22,
     "metadata": {},
     "output_type": "execute_result"
    }
   ],
   "source": [
    "tfidf"
   ]
  },
  {
   "cell_type": "code",
   "execution_count": 23,
   "metadata": {
    "collapsed": true
   },
   "outputs": [],
   "source": [
    "Xtfidf_train = tfidf.transform(comments_train).tocsr()"
   ]
  },
  {
   "cell_type": "code",
   "execution_count": 24,
   "metadata": {},
   "outputs": [
    {
     "data": {
      "text/plain": [
       "[mean: 0.82237, std: 0.01246, params: {'C': 0.01},\n",
       " mean: 0.83651, std: 0.01128, params: {'C': 0.03},\n",
       " mean: 0.84850, std: 0.01064, params: {'C': 0.1},\n",
       " mean: 0.86365, std: 0.00956, params: {'C': 0.3},\n",
       " mean: 0.87894, std: 0.00833, params: {'C': 1},\n",
       " mean: 0.88496, std: 0.00781, params: {'C': 3},\n",
       " mean: 0.88301, std: 0.00767, params: {'C': 10},\n",
       " mean: 0.87764, std: 0.00789, params: {'C': 30},\n",
       " mean: 0.87129, std: 0.00861, params: {'C': 100}]"
      ]
     },
     "execution_count": 24,
     "metadata": {},
     "output_type": "execute_result"
    }
   ],
   "source": [
    "logreg_tfidf = GridSearchCV(LogisticRegression(penalty='l2'), param_grid,\n",
    "                      scoring='roc_auc', n_jobs=-1, cv=5)\n",
    "logreg_tfidf.fit(Xtfidf_train, y_train)\n",
    "logreg_tfidf.grid_scores_"
   ]
  },
  {
   "cell_type": "code",
   "execution_count": 25,
   "metadata": {},
   "outputs": [
    {
     "data": {
      "text/plain": [
       "0.89252556268932937"
      ]
     },
     "execution_count": 25,
     "metadata": {},
     "output_type": "execute_result"
    }
   ],
   "source": [
    "Xtfidf_test = tfidf.transform(comments_test).tocsr()\n",
    "logreg_tfidf_pred = logreg_tfidf.predict_proba(Xtfidf_test)[:, 1]\n",
    "metrics.roc_auc_score(y_test, logreg_tfidf_pred)"
   ]
  },
  {
   "cell_type": "markdown",
   "metadata": {},
   "source": [
    "# Try 2-grams"
   ]
  },
  {
   "cell_type": "code",
   "execution_count": 26,
   "metadata": {},
   "outputs": [
    {
     "data": {
      "text/plain": [
       "TfidfVectorizer(analyzer='word', binary=False, decode_error='strict',\n",
       "        dtype=<class 'numpy.int64'>, encoding='utf-8', input='content',\n",
       "        lowercase=True, max_df=1.0, max_features=None, min_df=1,\n",
       "        ngram_range=(1, 2), norm='l2', preprocessor=None, smooth_idf=True,\n",
       "        stop_words=None, strip_accents=None, sublinear_tf=False,\n",
       "        token_pattern='(?u)\\\\b\\\\w\\\\w+\\\\b', tokenizer=None, use_idf=True,\n",
       "        vocabulary=None)"
      ]
     },
     "execution_count": 26,
     "metadata": {},
     "output_type": "execute_result"
    }
   ],
   "source": [
    "tg = TfidfVectorizer(binary=False, ngram_range=(1, 2))\n",
    "tg.fit(comments_train)"
   ]
  },
  {
   "cell_type": "code",
   "execution_count": 27,
   "metadata": {},
   "outputs": [
    {
     "name": "stdout",
     "output_type": "stream",
     "text": [
      "['been put', 'been quite', 'been reading', 'been recalled', 'been reported', 'been rough', 'been saying', 'been shipments', 'been shown', 'been skateboarding', 'been spent', 'been spewing', 'been spoken', 'been spot', 'been subjected']\n"
     ]
    }
   ],
   "source": [
    "print(tg.get_feature_names()[10000:10015])"
   ]
  },
  {
   "cell_type": "code",
   "execution_count": 28,
   "metadata": {},
   "outputs": [],
   "source": [
    "Xtg_train = tg.transform(comments_train).tocsr()"
   ]
  },
  {
   "cell_type": "code",
   "execution_count": 29,
   "metadata": {},
   "outputs": [
    {
     "data": {
      "text/plain": [
       "(3947, 94946)"
      ]
     },
     "execution_count": 29,
     "metadata": {},
     "output_type": "execute_result"
    }
   ],
   "source": [
    "Xtg_train.shape"
   ]
  },
  {
   "cell_type": "code",
   "execution_count": 30,
   "metadata": {},
   "outputs": [
    {
     "data": {
      "text/plain": [
       "[mean: 0.82298, std: 0.01264, params: {'C': 0.01},\n",
       " mean: 0.83473, std: 0.01177, params: {'C': 0.03},\n",
       " mean: 0.84259, std: 0.01177, params: {'C': 0.1},\n",
       " mean: 0.85396, std: 0.01108, params: {'C': 0.3},\n",
       " mean: 0.86976, std: 0.01028, params: {'C': 1},\n",
       " mean: 0.88002, std: 0.00974, params: {'C': 3},\n",
       " mean: 0.88379, std: 0.00988, params: {'C': 10},\n",
       " mean: 0.88356, std: 0.01037, params: {'C': 30},\n",
       " mean: 0.88250, std: 0.01086, params: {'C': 100}]"
      ]
     },
     "execution_count": 30,
     "metadata": {},
     "output_type": "execute_result"
    }
   ],
   "source": [
    "logreg_tg = GridSearchCV(LogisticRegression(penalty='l2'), param_grid,\n",
    "                      scoring='roc_auc', n_jobs=-1, cv=5)\n",
    "logreg_tg.fit(Xtg_train, y_train)\n",
    "logreg_tg.grid_scores_"
   ]
  },
  {
   "cell_type": "code",
   "execution_count": 31,
   "metadata": {},
   "outputs": [
    {
     "data": {
      "text/plain": [
       "0.8923630957919596"
      ]
     },
     "execution_count": 31,
     "metadata": {},
     "output_type": "execute_result"
    }
   ],
   "source": [
    "Xtg_test = tg.transform(comments_test).tocsr()\n",
    "logreg_tg_pred = logreg_tg.predict_proba(Xtg_test)[:, 1]\n",
    "metrics.roc_auc_score(y_test, logreg_tg_pred)"
   ]
  },
  {
   "cell_type": "code",
   "execution_count": 32,
   "metadata": {},
   "outputs": [
    {
     "data": {
      "text/plain": [
       "0.89479271439353347"
      ]
     },
     "execution_count": 32,
     "metadata": {},
     "output_type": "execute_result"
    }
   ],
   "source": [
    "metrics.roc_auc_score(y_test, logreg_tg_pred + logreg_tfidf_pred)"
   ]
  },
  {
   "cell_type": "markdown",
   "metadata": {},
   "source": [
    "# What are the most predictive words!"
   ]
  },
  {
   "cell_type": "code",
   "execution_count": 33,
   "metadata": {},
   "outputs": [],
   "source": [
    "word_effect = pd.DataFrame({'token': tg.get_feature_names(), 'coef': logreg_tg.best_estimator_.coef_[0, :]})"
   ]
  },
  {
   "cell_type": "code",
   "execution_count": 34,
   "metadata": {},
   "outputs": [
    {
     "name": "stderr",
     "output_type": "stream",
     "text": [
      "/Users/Gxav/anaconda/lib/python3.4/site-packages/ipykernel/__main__.py:1: FutureWarning: sort(columns=....) is deprecated, use sort_values(by=.....)\n",
      "  if __name__ == '__main__':\n"
     ]
    }
   ],
   "source": [
    "word_effect.sort(['coef'], ascending=[0], inplace=True)"
   ]
  },
  {
   "cell_type": "code",
   "execution_count": 35,
   "metadata": {},
   "outputs": [
    {
     "data": {
      "text/plain": [
       "array([[12.416189971105046, 'you'],\n",
       "       [10.256220545945574, 'idiot'],\n",
       "       [8.81873330710303, 'dumb'],\n",
       "       [7.955844294849619, 'stupid'],\n",
       "       [7.919482983452711, 'your'],\n",
       "       [7.810630407119215, 'moron'],\n",
       "       [7.166410636070209, 'bitch'],\n",
       "       [6.900402729900346, 'loser'],\n",
       "       [5.482176660601994, 'faggot'],\n",
       "       [4.97877557475419, 'ass'],\n",
       "       [4.714429044580859, 'ignorant'],\n",
       "       [4.641507722190839, 'shut'],\n",
       "       [4.551664890521922, 'retard'],\n",
       "       [4.454888508853563, 'retarded'],\n",
       "       [4.363968687601755, 'dick'],\n",
       "       [4.2614515280532235, 'racist'],\n",
       "       [4.229291699585234, 'mouth'],\n",
       "       [4.13241146402046, 'life'],\n",
       "       [3.8930077775804417, 'yourself'],\n",
       "       [3.7088744890434016, 'are an']], dtype=object)"
      ]
     },
     "execution_count": 35,
     "metadata": {},
     "output_type": "execute_result"
    }
   ],
   "source": [
    "word_effect.values[:20,:]"
   ]
  },
  {
   "cell_type": "code",
   "execution_count": 36,
   "metadata": {},
   "outputs": [
    {
     "name": "stderr",
     "output_type": "stream",
     "text": [
      "/Users/Gxav/anaconda/lib/python3.4/site-packages/ipykernel/__main__.py:1: FutureWarning: sort(columns=....) is deprecated, use sort_values(by=.....)\n",
      "  if __name__ == '__main__':\n"
     ]
    }
   ],
   "source": [
    "word_effect.sort(['coef'], ascending=[1], inplace=True)"
   ]
  },
  {
   "cell_type": "code",
   "execution_count": 37,
   "metadata": {},
   "outputs": [
    {
     "data": {
      "text/plain": [
       "array([[-3.776566321504673, 'they'],\n",
       "       [-3.5478999966985287, 'the'],\n",
       "       [-3.39058037294392, 'right'],\n",
       "       [-3.2085986064882706, 'are you'],\n",
       "       [-2.8867911280865264, 'are right'],\n",
       "       [-2.8287816441317446, 'better'],\n",
       "       [-2.7242608948756035, 'game'],\n",
       "       [-2.662096421042112, 'he'],\n",
       "       [-2.589115095555307, 'if'],\n",
       "       [-2.5090643226004494, 'love'],\n",
       "       [-2.480269021678729, 'yes'],\n",
       "       [-2.4355628104796088, 'yes you'],\n",
       "       [-2.2504250439290803, 'xc2'],\n",
       "       [-2.1630817192475438, 'me'],\n",
       "       [-2.1161505968234375, 'two'],\n",
       "       [-2.115004391128331, 'xc2 xa0'],\n",
       "       [-2.113578460512195, 'if you'],\n",
       "       [-1.9482827450863072, 'fans'],\n",
       "       [-1.9325152885564196, 'obama'],\n",
       "       [-1.9241728020907845, 'by']], dtype=object)"
      ]
     },
     "execution_count": 37,
     "metadata": {},
     "output_type": "execute_result"
    }
   ],
   "source": [
    "word_effect.values[:20,:]"
   ]
  },
  {
   "cell_type": "code",
   "execution_count": null,
   "metadata": {
    "collapsed": true
   },
   "outputs": [],
   "source": []
  },
  {
   "cell_type": "code",
   "execution_count": 38,
   "metadata": {},
   "outputs": [
    {
     "data": {
      "text/plain": [
       "[mean: 0.81765, std: 0.02240, params: {'C': 0.01},\n",
       " mean: 0.84931, std: 0.01668, params: {'C': 0.03},\n",
       " mean: 0.86701, std: 0.01248, params: {'C': 0.1},\n",
       " mean: 0.88345, std: 0.00943, params: {'C': 0.3},\n",
       " mean: 0.89961, std: 0.00748, params: {'C': 1},\n",
       " mean: 0.90690, std: 0.00653, params: {'C': 3},\n",
       " mean: 0.90815, std: 0.00618, params: {'C': 10},\n",
       " mean: 0.90722, std: 0.00599, params: {'C': 30},\n",
       " mean: 0.90598, std: 0.00590, params: {'C': 100}]"
      ]
     },
     "execution_count": 38,
     "metadata": {},
     "output_type": "execute_result"
    }
   ],
   "source": [
    "tc = TfidfVectorizer(binary=True, analyzer='char', ngram_range=(1, 5))\n",
    "tc.fit(comments_train)\n",
    "Xtc_train = tc.transform(comments_train).tocsr()\n",
    "logreg_tc = GridSearchCV(LogisticRegression(penalty='l2'), param_grid,\n",
    "                      scoring='roc_auc', n_jobs=-1, cv=5)\n",
    "logreg_tc.fit(Xtc_train, y_train)\n",
    "logreg_tc.grid_scores_"
   ]
  },
  {
   "cell_type": "code",
   "execution_count": 39,
   "metadata": {},
   "outputs": [
    {
     "data": {
      "text/plain": [
       "0.91387038981716573"
      ]
     },
     "execution_count": 39,
     "metadata": {},
     "output_type": "execute_result"
    }
   ],
   "source": [
    "Xtc_test = tc.transform(comments_test).tocsr()\n",
    "logreg_tc_pred = logreg_tc.predict_proba(Xtc_test)[:, 1]\n",
    "metrics.roc_auc_score(y_test, logreg_tc_pred)"
   ]
  },
  {
   "cell_type": "code",
   "execution_count": 40,
   "metadata": {},
   "outputs": [
    {
     "data": {
      "text/plain": [
       "(3947, 222886)"
      ]
     },
     "execution_count": 40,
     "metadata": {},
     "output_type": "execute_result"
    }
   ],
   "source": [
    "Xtc_train.shape"
   ]
  },
  {
   "cell_type": "markdown",
   "metadata": {},
   "source": [
    "# Try lasso"
   ]
  },
  {
   "cell_type": "code",
   "execution_count": 41,
   "metadata": {},
   "outputs": [
    {
     "data": {
      "text/plain": [
       "[mean: 0.50000, std: 0.00000, params: {'C': 0.01},\n",
       " mean: 0.50000, std: 0.00000, params: {'C': 0.03},\n",
       " mean: 0.50000, std: 0.00000, params: {'C': 0.1},\n",
       " mean: 0.73412, std: 0.01197, params: {'C': 0.3},\n",
       " mean: 0.85026, std: 0.01456, params: {'C': 1},\n",
       " mean: 0.88673, std: 0.00937, params: {'C': 3},\n",
       " mean: 0.88685, std: 0.00811, params: {'C': 10},\n",
       " mean: 0.88039, std: 0.01171, params: {'C': 30},\n",
       " mean: 0.87769, std: 0.01262, params: {'C': 100}]"
      ]
     },
     "execution_count": 41,
     "metadata": {},
     "output_type": "execute_result"
    }
   ],
   "source": [
    "logreg1_tc = GridSearchCV(LogisticRegression(penalty='l1'), param_grid,\n",
    "                      scoring='roc_auc', n_jobs=-1, cv=5)\n",
    "logreg1_tc.fit(Xtc_train, y_train)\n",
    "logreg1_tc.grid_scores_"
   ]
  },
  {
   "cell_type": "code",
   "execution_count": 42,
   "metadata": {},
   "outputs": [
    {
     "data": {
      "text/plain": [
       "0.89020560924348024"
      ]
     },
     "execution_count": 42,
     "metadata": {},
     "output_type": "execute_result"
    }
   ],
   "source": [
    "logreg1_tc_pred = logreg1_tc.predict_proba(Xtc_test)[:, 1]\n",
    "metrics.roc_auc_score(y_test, logreg1_tc_pred)"
   ]
  },
  {
   "cell_type": "markdown",
   "metadata": {},
   "source": [
    "# Get vars with non null coeffs"
   ]
  },
  {
   "cell_type": "code",
   "execution_count": 48,
   "metadata": {
    "collapsed": true
   },
   "outputs": [],
   "source": [
    "coef_l1 = logreg1_tc.best_estimator_.coef_\n",
    "non_null_cols = [i for i, j in enumerate(list(coef_l1.ravel())) if j!=0]"
   ]
  },
  {
   "cell_type": "markdown",
   "metadata": {},
   "source": [
    "# Reduce Xtc_train"
   ]
  },
  {
   "cell_type": "code",
   "execution_count": 61,
   "metadata": {
    "collapsed": true
   },
   "outputs": [],
   "source": [
    "reducted_Xtc_train = Xtc_train.tocsc()[:, non_null_cols]\n",
    "reducted_Xtc_train.shape"
   ]
  },
  {
   "cell_type": "code",
   "execution_count": 66,
   "metadata": {},
   "outputs": [
    {
     "data": {
      "text/plain": [
       "[mean: 0.89191, std: 0.01181, params: {'C': 0.01},\n",
       " mean: 0.89668, std: 0.00986, params: {'C': 0.03},\n",
       " mean: 0.89899, std: 0.00950, params: {'C': 0.1}]"
      ]
     },
     "execution_count": 66,
     "metadata": {},
     "output_type": "execute_result"
    }
   ],
   "source": [
    "param_grid = {'C': [0.01, 0.03, 0.1] }\n",
    "logreg2_rtc = GridSearchCV(LogisticRegression(penalty='l2'), param_grid,\n",
    "                      scoring='roc_auc', n_jobs=-1, cv=5)\n",
    "logreg2_rtc.fit(reducted_Xtc_train, y_train)\n",
    "logreg2_rtc.grid_scores_"
   ]
  },
  {
   "cell_type": "code",
   "execution_count": 67,
   "metadata": {},
   "outputs": [
    {
     "data": {
      "text/plain": [
       "0.87745121931406478"
      ]
     },
     "execution_count": 67,
     "metadata": {},
     "output_type": "execute_result"
    }
   ],
   "source": [
    "logreg2_rtc_pred = logreg2_rtc.predict_proba(Xtc_test.tocsc()[:, non_null_cols])[:, 1]\n",
    "metrics.roc_auc_score(y_test, logreg2_rtc_pred)"
   ]
  },
  {
   "cell_type": "markdown",
   "metadata": {},
   "source": [
    "# Try Xgboost"
   ]
  },
  {
   "cell_type": "code",
   "execution_count": 72,
   "metadata": {},
   "outputs": [
    {
     "name": "stdout",
     "output_type": "stream",
     "text": [
      "[0]\tvalidation_0-auc:0.703775\n",
      "Will train until validation_0-auc hasn't improved in 10 rounds.\n",
      "[1]\tvalidation_0-auc:0.733647\n",
      "[2]\tvalidation_0-auc:0.734654\n",
      "[3]\tvalidation_0-auc:0.743753\n",
      "[4]\tvalidation_0-auc:0.762159\n",
      "[5]\tvalidation_0-auc:0.767472\n",
      "[6]\tvalidation_0-auc:0.769677\n",
      "[7]\tvalidation_0-auc:0.776548\n",
      "[8]\tvalidation_0-auc:0.774987\n",
      "[9]\tvalidation_0-auc:0.775049\n",
      "[10]\tvalidation_0-auc:0.774743\n",
      "[11]\tvalidation_0-auc:0.775163\n",
      "[12]\tvalidation_0-auc:0.780871\n",
      "[13]\tvalidation_0-auc:0.779082\n",
      "[14]\tvalidation_0-auc:0.777765\n",
      "[15]\tvalidation_0-auc:0.779028\n",
      "[16]\tvalidation_0-auc:0.780607\n",
      "[17]\tvalidation_0-auc:0.781819\n",
      "[18]\tvalidation_0-auc:0.782414\n",
      "[19]\tvalidation_0-auc:0.781813\n",
      "[20]\tvalidation_0-auc:0.78397\n",
      "[21]\tvalidation_0-auc:0.784042\n",
      "[22]\tvalidation_0-auc:0.783131\n",
      "[23]\tvalidation_0-auc:0.784079\n",
      "[24]\tvalidation_0-auc:0.784995\n",
      "[25]\tvalidation_0-auc:0.785287\n",
      "[26]\tvalidation_0-auc:0.78623\n",
      "[27]\tvalidation_0-auc:0.785484\n",
      "[28]\tvalidation_0-auc:0.785386\n",
      "[29]\tvalidation_0-auc:0.786916\n",
      "[30]\tvalidation_0-auc:0.788746\n",
      "[31]\tvalidation_0-auc:0.789492\n",
      "[32]\tvalidation_0-auc:0.789719\n",
      "[33]\tvalidation_0-auc:0.791192\n",
      "[34]\tvalidation_0-auc:0.794107\n",
      "[35]\tvalidation_0-auc:0.792233\n",
      "[36]\tvalidation_0-auc:0.792249\n",
      "[37]\tvalidation_0-auc:0.792575\n",
      "[38]\tvalidation_0-auc:0.792552\n",
      "[39]\tvalidation_0-auc:0.793851\n",
      "[40]\tvalidation_0-auc:0.795604\n",
      "[41]\tvalidation_0-auc:0.797204\n",
      "[42]\tvalidation_0-auc:0.797149\n",
      "[43]\tvalidation_0-auc:0.796497\n",
      "[44]\tvalidation_0-auc:0.797465\n",
      "[45]\tvalidation_0-auc:0.798092\n",
      "[46]\tvalidation_0-auc:0.799122\n",
      "[47]\tvalidation_0-auc:0.800284\n",
      "[48]\tvalidation_0-auc:0.803233\n",
      "[49]\tvalidation_0-auc:0.802599\n",
      "[50]\tvalidation_0-auc:0.80257\n",
      "[51]\tvalidation_0-auc:0.802003\n",
      "[52]\tvalidation_0-auc:0.802399\n",
      "[53]\tvalidation_0-auc:0.8033\n",
      "[54]\tvalidation_0-auc:0.80301\n",
      "[55]\tvalidation_0-auc:0.803039\n",
      "[56]\tvalidation_0-auc:0.803186\n",
      "[57]\tvalidation_0-auc:0.804822\n",
      "[58]\tvalidation_0-auc:0.805423\n",
      "[59]\tvalidation_0-auc:0.805268\n",
      "[60]\tvalidation_0-auc:0.806816\n",
      "[61]\tvalidation_0-auc:0.806308\n",
      "[62]\tvalidation_0-auc:0.809889\n",
      "[63]\tvalidation_0-auc:0.810168\n",
      "[64]\tvalidation_0-auc:0.81051\n",
      "[65]\tvalidation_0-auc:0.811685\n",
      "[66]\tvalidation_0-auc:0.8105\n",
      "[67]\tvalidation_0-auc:0.811261\n",
      "[68]\tvalidation_0-auc:0.811258\n",
      "[69]\tvalidation_0-auc:0.812273\n",
      "[70]\tvalidation_0-auc:0.812576\n",
      "[71]\tvalidation_0-auc:0.813409\n",
      "[72]\tvalidation_0-auc:0.813352\n",
      "[73]\tvalidation_0-auc:0.815193\n",
      "[74]\tvalidation_0-auc:0.81482\n",
      "[75]\tvalidation_0-auc:0.81502\n",
      "[76]\tvalidation_0-auc:0.815949\n",
      "[77]\tvalidation_0-auc:0.816285\n",
      "[78]\tvalidation_0-auc:0.816187\n",
      "[79]\tvalidation_0-auc:0.816824\n",
      "[80]\tvalidation_0-auc:0.817595\n",
      "[81]\tvalidation_0-auc:0.817352\n",
      "[82]\tvalidation_0-auc:0.818035\n",
      "[83]\tvalidation_0-auc:0.818589\n",
      "[84]\tvalidation_0-auc:0.819301\n",
      "[85]\tvalidation_0-auc:0.819912\n",
      "[86]\tvalidation_0-auc:0.821608\n",
      "[87]\tvalidation_0-auc:0.821691\n",
      "[88]\tvalidation_0-auc:0.82168\n",
      "[89]\tvalidation_0-auc:0.82239\n",
      "[90]\tvalidation_0-auc:0.82299\n",
      "[91]\tvalidation_0-auc:0.823513\n",
      "[92]\tvalidation_0-auc:0.824026\n",
      "[93]\tvalidation_0-auc:0.824111\n",
      "[94]\tvalidation_0-auc:0.824189\n",
      "[95]\tvalidation_0-auc:0.825196\n",
      "[96]\tvalidation_0-auc:0.826467\n",
      "[97]\tvalidation_0-auc:0.826622\n",
      "[98]\tvalidation_0-auc:0.82671\n",
      "[99]\tvalidation_0-auc:0.827541\n",
      "[100]\tvalidation_0-auc:0.827976\n",
      "[101]\tvalidation_0-auc:0.828955\n",
      "[102]\tvalidation_0-auc:0.829555\n",
      "[103]\tvalidation_0-auc:0.829447\n",
      "[104]\tvalidation_0-auc:0.828841\n",
      "[105]\tvalidation_0-auc:0.829071\n",
      "[106]\tvalidation_0-auc:0.828952\n",
      "[107]\tvalidation_0-auc:0.829755\n",
      "[108]\tvalidation_0-auc:0.830386\n",
      "[109]\tvalidation_0-auc:0.830992\n",
      "[110]\tvalidation_0-auc:0.831243\n",
      "[111]\tvalidation_0-auc:0.831575\n",
      "[112]\tvalidation_0-auc:0.83188\n",
      "[113]\tvalidation_0-auc:0.831854\n",
      "[114]\tvalidation_0-auc:0.831857\n",
      "[115]\tvalidation_0-auc:0.832116\n",
      "[116]\tvalidation_0-auc:0.832675\n",
      "[117]\tvalidation_0-auc:0.833162\n",
      "[118]\tvalidation_0-auc:0.833224\n",
      "[119]\tvalidation_0-auc:0.833353\n",
      "[120]\tvalidation_0-auc:0.834244\n",
      "[121]\tvalidation_0-auc:0.834088\n",
      "[122]\tvalidation_0-auc:0.834694\n",
      "[123]\tvalidation_0-auc:0.834958\n",
      "[124]\tvalidation_0-auc:0.835284\n",
      "[125]\tvalidation_0-auc:0.835574\n",
      "[126]\tvalidation_0-auc:0.835942\n",
      "[127]\tvalidation_0-auc:0.836139\n",
      "[128]\tvalidation_0-auc:0.836268\n",
      "[129]\tvalidation_0-auc:0.836729\n",
      "[130]\tvalidation_0-auc:0.837019\n",
      "[131]\tvalidation_0-auc:0.837969\n",
      "[132]\tvalidation_0-auc:0.838212\n",
      "[133]\tvalidation_0-auc:0.838823\n",
      "[134]\tvalidation_0-auc:0.839126\n",
      "[135]\tvalidation_0-auc:0.839297\n",
      "[136]\tvalidation_0-auc:0.839458\n",
      "[137]\tvalidation_0-auc:0.839675\n",
      "[138]\tvalidation_0-auc:0.839747\n",
      "[139]\tvalidation_0-auc:0.839432\n",
      "[140]\tvalidation_0-auc:0.839778\n",
      "[141]\tvalidation_0-auc:0.840198\n",
      "[142]\tvalidation_0-auc:0.840348\n",
      "[143]\tvalidation_0-auc:0.840452\n",
      "[144]\tvalidation_0-auc:0.840736\n",
      "[145]\tvalidation_0-auc:0.840762\n",
      "[146]\tvalidation_0-auc:0.841285\n",
      "[147]\tvalidation_0-auc:0.84127\n",
      "[148]\tvalidation_0-auc:0.840892\n",
      "[149]\tvalidation_0-auc:0.841099\n",
      "[150]\tvalidation_0-auc:0.841409\n",
      "[151]\tvalidation_0-auc:0.841264\n",
      "[152]\tvalidation_0-auc:0.841785\n",
      "[153]\tvalidation_0-auc:0.842132\n",
      "[154]\tvalidation_0-auc:0.842303\n",
      "[155]\tvalidation_0-auc:0.842567\n",
      "[156]\tvalidation_0-auc:0.842717\n",
      "[157]\tvalidation_0-auc:0.842836\n",
      "[158]\tvalidation_0-auc:0.843115\n",
      "[159]\tvalidation_0-auc:0.843266\n",
      "[160]\tvalidation_0-auc:0.843765\n",
      "[161]\tvalidation_0-auc:0.843403\n",
      "[162]\tvalidation_0-auc:0.843776\n",
      "[163]\tvalidation_0-auc:0.843918\n",
      "[164]\tvalidation_0-auc:0.843866\n",
      "[165]\tvalidation_0-auc:0.843923\n",
      "[166]\tvalidation_0-auc:0.844089\n",
      "[167]\tvalidation_0-auc:0.844353\n",
      "[168]\tvalidation_0-auc:0.844695\n",
      "[169]\tvalidation_0-auc:0.844777\n",
      "[170]\tvalidation_0-auc:0.844943\n",
      "[171]\tvalidation_0-auc:0.845536\n",
      "[172]\tvalidation_0-auc:0.846564\n",
      "[173]\tvalidation_0-auc:0.846522\n",
      "[174]\tvalidation_0-auc:0.8466\n",
      "[175]\tvalidation_0-auc:0.847206\n",
      "[176]\tvalidation_0-auc:0.847553\n",
      "[177]\tvalidation_0-auc:0.847532\n",
      "[178]\tvalidation_0-auc:0.847532\n",
      "[179]\tvalidation_0-auc:0.847692\n",
      "[180]\tvalidation_0-auc:0.847848\n",
      "[181]\tvalidation_0-auc:0.848469\n",
      "[182]\tvalidation_0-auc:0.848526\n",
      "[183]\tvalidation_0-auc:0.848562\n",
      "[184]\tvalidation_0-auc:0.84893\n",
      "[185]\tvalidation_0-auc:0.848764\n",
      "[186]\tvalidation_0-auc:0.848689\n",
      "[187]\tvalidation_0-auc:0.848705\n",
      "[188]\tvalidation_0-auc:0.848637\n",
      "[189]\tvalidation_0-auc:0.848837\n",
      "[190]\tvalidation_0-auc:0.848888\n",
      "[191]\tvalidation_0-auc:0.848604\n",
      "[192]\tvalidation_0-auc:0.849204\n",
      "[193]\tvalidation_0-auc:0.849582\n",
      "[194]\tvalidation_0-auc:0.849888\n",
      "[195]\tvalidation_0-auc:0.849831\n",
      "[196]\tvalidation_0-auc:0.849769\n",
      "[197]\tvalidation_0-auc:0.849846\n",
      "[198]\tvalidation_0-auc:0.850209\n",
      "[199]\tvalidation_0-auc:0.850649\n",
      "[200]\tvalidation_0-auc:0.851182\n",
      "[201]\tvalidation_0-auc:0.851441\n",
      "[202]\tvalidation_0-auc:0.851529\n",
      "[203]\tvalidation_0-auc:0.851695\n",
      "[204]\tvalidation_0-auc:0.851576\n",
      "[205]\tvalidation_0-auc:0.851793\n",
      "[206]\tvalidation_0-auc:0.851803\n",
      "[207]\tvalidation_0-auc:0.85215\n",
      "[208]\tvalidation_0-auc:0.852539\n",
      "[209]\tvalidation_0-auc:0.852922\n",
      "[210]\tvalidation_0-auc:0.852999\n",
      "[211]\tvalidation_0-auc:0.853346\n",
      "[212]\tvalidation_0-auc:0.85345\n",
      "[213]\tvalidation_0-auc:0.853703\n",
      "[214]\tvalidation_0-auc:0.853952\n",
      "[215]\tvalidation_0-auc:0.854408\n",
      "[216]\tvalidation_0-auc:0.854786\n",
      "[217]\tvalidation_0-auc:0.854941\n",
      "[218]\tvalidation_0-auc:0.855184\n",
      "[219]\tvalidation_0-auc:0.855552\n",
      "[220]\tvalidation_0-auc:0.855837\n",
      "[221]\tvalidation_0-auc:0.856101\n",
      "[222]\tvalidation_0-auc:0.856318\n",
      "[223]\tvalidation_0-auc:0.856536\n",
      "[224]\tvalidation_0-auc:0.856769\n",
      "[225]\tvalidation_0-auc:0.856895\n",
      "[226]\tvalidation_0-auc:0.856958\n",
      "[227]\tvalidation_0-auc:0.856994\n",
      "[228]\tvalidation_0-auc:0.857105\n",
      "[229]\tvalidation_0-auc:0.857227\n",
      "[230]\tvalidation_0-auc:0.85747\n",
      "[231]\tvalidation_0-auc:0.857537\n",
      "[232]\tvalidation_0-auc:0.857714\n",
      "[233]\tvalidation_0-auc:0.858019\n",
      "[234]\tvalidation_0-auc:0.858208\n",
      "[235]\tvalidation_0-auc:0.858405\n",
      "[236]\tvalidation_0-auc:0.858539\n",
      "[237]\tvalidation_0-auc:0.858834\n",
      "[238]\tvalidation_0-auc:0.858922\n",
      "[239]\tvalidation_0-auc:0.859135\n",
      "[240]\tvalidation_0-auc:0.859627\n",
      "[241]\tvalidation_0-auc:0.859746\n",
      "[242]\tvalidation_0-auc:0.859953\n",
      "[243]\tvalidation_0-auc:0.860175\n",
      "[244]\tvalidation_0-auc:0.860253\n",
      "[245]\tvalidation_0-auc:0.860538\n",
      "[246]\tvalidation_0-auc:0.860579\n",
      "[247]\tvalidation_0-auc:0.860678\n",
      "[248]\tvalidation_0-auc:0.860926\n",
      "[249]\tvalidation_0-auc:0.860869\n",
      "[250]\tvalidation_0-auc:0.86088\n",
      "[251]\tvalidation_0-auc:0.860792\n",
      "[252]\tvalidation_0-auc:0.860828\n",
      "[253]\tvalidation_0-auc:0.861175\n",
      "[254]\tvalidation_0-auc:0.861377\n",
      "[255]\tvalidation_0-auc:0.861413\n",
      "[256]\tvalidation_0-auc:0.86148\n",
      "[257]\tvalidation_0-auc:0.861744\n",
      "[258]\tvalidation_0-auc:0.861729\n",
      "[259]\tvalidation_0-auc:0.86192\n",
      "[260]\tvalidation_0-auc:0.861977\n",
      "[261]\tvalidation_0-auc:0.861993\n",
      "[262]\tvalidation_0-auc:0.862148\n",
      "[263]\tvalidation_0-auc:0.862278\n",
      "[264]\tvalidation_0-auc:0.862443\n",
      "[265]\tvalidation_0-auc:0.862661\n",
      "[266]\tvalidation_0-auc:0.862976\n",
      "[267]\tvalidation_0-auc:0.862956\n",
      "[268]\tvalidation_0-auc:0.863033\n",
      "[269]\tvalidation_0-auc:0.863124\n",
      "[270]\tvalidation_0-auc:0.863507\n",
      "[271]\tvalidation_0-auc:0.86373\n",
      "[272]\tvalidation_0-auc:0.863766\n",
      "[273]\tvalidation_0-auc:0.863875\n",
      "[274]\tvalidation_0-auc:0.864185\n",
      "[275]\tvalidation_0-auc:0.864273\n",
      "[276]\tvalidation_0-auc:0.864403\n",
      "[277]\tvalidation_0-auc:0.864594\n",
      "[278]\tvalidation_0-auc:0.86489\n",
      "[279]\tvalidation_0-auc:0.864947\n",
      "[280]\tvalidation_0-auc:0.865045\n",
      "[281]\tvalidation_0-auc:0.86519\n",
      "[282]\tvalidation_0-auc:0.86512\n",
      "[283]\tvalidation_0-auc:0.865343\n",
      "[284]\tvalidation_0-auc:0.865337\n",
      "[285]\tvalidation_0-auc:0.865348\n",
      "[286]\tvalidation_0-auc:0.865255\n",
      "[287]\tvalidation_0-auc:0.865249\n",
      "[288]\tvalidation_0-auc:0.865425\n",
      "[289]\tvalidation_0-auc:0.865467\n",
      "[290]\tvalidation_0-auc:0.865493\n",
      "[291]\tvalidation_0-auc:0.865684\n",
      "[292]\tvalidation_0-auc:0.8657\n",
      "[293]\tvalidation_0-auc:0.865891\n",
      "[294]\tvalidation_0-auc:0.865985\n",
      "[295]\tvalidation_0-auc:0.866\n",
      "[296]\tvalidation_0-auc:0.866062\n",
      "[297]\tvalidation_0-auc:0.866243\n",
      "[298]\tvalidation_0-auc:0.866249\n",
      "[299]\tvalidation_0-auc:0.866409\n",
      "[300]\tvalidation_0-auc:0.866466\n",
      "[301]\tvalidation_0-auc:0.866497\n",
      "[302]\tvalidation_0-auc:0.866596\n",
      "[303]\tvalidation_0-auc:0.866285\n",
      "[304]\tvalidation_0-auc:0.866394\n",
      "[305]\tvalidation_0-auc:0.866438\n",
      "[306]\tvalidation_0-auc:0.866634\n",
      "[307]\tvalidation_0-auc:0.866552\n",
      "[308]\tvalidation_0-auc:0.866593\n",
      "[309]\tvalidation_0-auc:0.866917\n",
      "[310]\tvalidation_0-auc:0.866968\n",
      "[311]\tvalidation_0-auc:0.867108\n",
      "[312]\tvalidation_0-auc:0.867331\n",
      "[313]\tvalidation_0-auc:0.86732\n",
      "[314]\tvalidation_0-auc:0.867424\n",
      "[315]\tvalidation_0-auc:0.867496\n",
      "[316]\tvalidation_0-auc:0.867574\n",
      "[317]\tvalidation_0-auc:0.8676\n",
      "[318]\tvalidation_0-auc:0.867673\n",
      "[319]\tvalidation_0-auc:0.867799\n",
      "[320]\tvalidation_0-auc:0.868089\n",
      "[321]\tvalidation_0-auc:0.868105\n",
      "[322]\tvalidation_0-auc:0.868299\n",
      "[323]\tvalidation_0-auc:0.86833\n",
      "[324]\tvalidation_0-auc:0.868413\n",
      "[325]\tvalidation_0-auc:0.868594\n",
      "[326]\tvalidation_0-auc:0.868558\n",
      "[327]\tvalidation_0-auc:0.868641\n",
      "[328]\tvalidation_0-auc:0.868778\n",
      "[329]\tvalidation_0-auc:0.868869\n",
      "[330]\tvalidation_0-auc:0.86892\n",
      "[331]\tvalidation_0-auc:0.868967\n",
      "[332]\tvalidation_0-auc:0.868972\n",
      "[333]\tvalidation_0-auc:0.868796\n",
      "[334]\tvalidation_0-auc:0.868837\n",
      "[335]\tvalidation_0-auc:0.868907\n",
      "[336]\tvalidation_0-auc:0.869135\n",
      "[337]\tvalidation_0-auc:0.869456\n",
      "[338]\tvalidation_0-auc:0.869663\n",
      "[339]\tvalidation_0-auc:0.869591\n",
      "[340]\tvalidation_0-auc:0.869601\n",
      "[341]\tvalidation_0-auc:0.8698\n",
      "[342]\tvalidation_0-auc:0.869909\n",
      "[343]\tvalidation_0-auc:0.870199\n",
      "[344]\tvalidation_0-auc:0.870199\n",
      "[345]\tvalidation_0-auc:0.870334\n",
      "[346]\tvalidation_0-auc:0.870453\n",
      "[347]\tvalidation_0-auc:0.870577\n",
      "[348]\tvalidation_0-auc:0.87067\n",
      "[349]\tvalidation_0-auc:0.870862\n",
      "[350]\tvalidation_0-auc:0.870955\n",
      "[351]\tvalidation_0-auc:0.871033\n",
      "[352]\tvalidation_0-auc:0.871147\n",
      "[353]\tvalidation_0-auc:0.87138\n",
      "[354]\tvalidation_0-auc:0.87132\n",
      "[355]\tvalidation_0-auc:0.871248\n",
      "[356]\tvalidation_0-auc:0.871279\n",
      "[357]\tvalidation_0-auc:0.871175\n",
      "[358]\tvalidation_0-auc:0.871206\n",
      "[359]\tvalidation_0-auc:0.871237\n",
      "[360]\tvalidation_0-auc:0.871232\n",
      "[361]\tvalidation_0-auc:0.871273\n",
      "[362]\tvalidation_0-auc:0.871403\n",
      "[363]\tvalidation_0-auc:0.871253\n",
      "[364]\tvalidation_0-auc:0.87132\n",
      "[365]\tvalidation_0-auc:0.871315\n",
      "[366]\tvalidation_0-auc:0.871418\n",
      "[367]\tvalidation_0-auc:0.87145\n",
      "[368]\tvalidation_0-auc:0.871481\n",
      "[369]\tvalidation_0-auc:0.871434\n",
      "[370]\tvalidation_0-auc:0.87147\n",
      "[371]\tvalidation_0-auc:0.871455\n",
      "[372]\tvalidation_0-auc:0.871677\n",
      "[373]\tvalidation_0-auc:0.871765\n",
      "[374]\tvalidation_0-auc:0.871998\n",
      "[375]\tvalidation_0-auc:0.871967\n",
      "[376]\tvalidation_0-auc:0.872076\n",
      "[377]\tvalidation_0-auc:0.872123\n",
      "[378]\tvalidation_0-auc:0.872133\n",
      "[379]\tvalidation_0-auc:0.872076\n",
      "[380]\tvalidation_0-auc:0.872081\n",
      "[381]\tvalidation_0-auc:0.872055\n",
      "[382]\tvalidation_0-auc:0.872092\n",
      "[383]\tvalidation_0-auc:0.872123\n",
      "[384]\tvalidation_0-auc:0.872221\n",
      "[385]\tvalidation_0-auc:0.872428\n",
      "[386]\tvalidation_0-auc:0.872591\n",
      "[387]\tvalidation_0-auc:0.872519\n",
      "[388]\tvalidation_0-auc:0.872684\n",
      "[389]\tvalidation_0-auc:0.872736\n",
      "[390]\tvalidation_0-auc:0.872876\n",
      "[391]\tvalidation_0-auc:0.872845\n",
      "[392]\tvalidation_0-auc:0.872736\n",
      "[393]\tvalidation_0-auc:0.872917\n",
      "[394]\tvalidation_0-auc:0.873005\n",
      "[395]\tvalidation_0-auc:0.872943\n",
      "[396]\tvalidation_0-auc:0.872886\n",
      "[397]\tvalidation_0-auc:0.872902\n",
      "[398]\tvalidation_0-auc:0.872772\n",
      "[399]\tvalidation_0-auc:0.872902\n",
      "[400]\tvalidation_0-auc:0.872964\n",
      "[401]\tvalidation_0-auc:0.872902\n",
      "[402]\tvalidation_0-auc:0.872907\n",
      "[403]\tvalidation_0-auc:0.873036\n",
      "[404]\tvalidation_0-auc:0.873218\n",
      "[405]\tvalidation_0-auc:0.873233\n",
      "[406]\tvalidation_0-auc:0.873269\n",
      "[407]\tvalidation_0-auc:0.873269\n",
      "[408]\tvalidation_0-auc:0.873321\n",
      "[409]\tvalidation_0-auc:0.873321\n",
      "[410]\tvalidation_0-auc:0.873311\n",
      "[411]\tvalidation_0-auc:0.873342\n",
      "[412]\tvalidation_0-auc:0.873342\n",
      "[413]\tvalidation_0-auc:0.873445\n",
      "[414]\tvalidation_0-auc:0.873544\n",
      "[415]\tvalidation_0-auc:0.873684\n",
      "[416]\tvalidation_0-auc:0.873647\n",
      "[417]\tvalidation_0-auc:0.873637\n",
      "[418]\tvalidation_0-auc:0.873627\n",
      "[419]\tvalidation_0-auc:0.873751\n",
      "[420]\tvalidation_0-auc:0.873906\n",
      "[421]\tvalidation_0-auc:0.874005\n",
      "[422]\tvalidation_0-auc:0.874067\n",
      "[423]\tvalidation_0-auc:0.874072\n",
      "[424]\tvalidation_0-auc:0.873948\n",
      "[425]\tvalidation_0-auc:0.873999\n",
      "[426]\tvalidation_0-auc:0.874093\n",
      "[427]\tvalidation_0-auc:0.874243\n",
      "[428]\tvalidation_0-auc:0.874331\n",
      "[429]\tvalidation_0-auc:0.874284\n",
      "[430]\tvalidation_0-auc:0.874564\n",
      "[431]\tvalidation_0-auc:0.874766\n",
      "[432]\tvalidation_0-auc:0.874766\n",
      "[433]\tvalidation_0-auc:0.87475\n",
      "[434]\tvalidation_0-auc:0.874745\n",
      "[435]\tvalidation_0-auc:0.874802\n",
      "[436]\tvalidation_0-auc:0.874807\n",
      "[437]\tvalidation_0-auc:0.874952\n",
      "[438]\tvalidation_0-auc:0.874916\n",
      "[439]\tvalidation_0-auc:0.875061\n",
      "[440]\tvalidation_0-auc:0.875061\n",
      "[441]\tvalidation_0-auc:0.875183\n",
      "[442]\tvalidation_0-auc:0.875237\n",
      "[443]\tvalidation_0-auc:0.875304\n",
      "[444]\tvalidation_0-auc:0.875335\n",
      "[445]\tvalidation_0-auc:0.875346\n",
      "[446]\tvalidation_0-auc:0.875387\n",
      "[447]\tvalidation_0-auc:0.875392\n",
      "[448]\tvalidation_0-auc:0.875335\n",
      "[449]\tvalidation_0-auc:0.875289\n",
      "[450]\tvalidation_0-auc:0.87534\n",
      "[451]\tvalidation_0-auc:0.87533\n",
      "[452]\tvalidation_0-auc:0.875392\n",
      "[453]\tvalidation_0-auc:0.875382\n",
      "[454]\tvalidation_0-auc:0.87547\n",
      "[455]\tvalidation_0-auc:0.875661\n",
      "[456]\tvalidation_0-auc:0.875734\n",
      "[457]\tvalidation_0-auc:0.875749\n",
      "[458]\tvalidation_0-auc:0.875542\n",
      "[459]\tvalidation_0-auc:0.875656\n",
      "[460]\tvalidation_0-auc:0.875708\n",
      "[461]\tvalidation_0-auc:0.875625\n",
      "[462]\tvalidation_0-auc:0.875643\n",
      "[463]\tvalidation_0-auc:0.875825\n",
      "[464]\tvalidation_0-auc:0.875881\n",
      "[465]\tvalidation_0-auc:0.87599\n",
      "[466]\tvalidation_0-auc:0.876089\n",
      "[467]\tvalidation_0-auc:0.876047\n",
      "[468]\tvalidation_0-auc:0.876166\n",
      "[469]\tvalidation_0-auc:0.876161\n",
      "[470]\tvalidation_0-auc:0.876114\n",
      "[471]\tvalidation_0-auc:0.876104\n",
      "[472]\tvalidation_0-auc:0.876151\n",
      "[473]\tvalidation_0-auc:0.876109\n",
      "[474]\tvalidation_0-auc:0.876083\n",
      "[475]\tvalidation_0-auc:0.876161\n",
      "[476]\tvalidation_0-auc:0.876151\n",
      "[477]\tvalidation_0-auc:0.876202\n",
      "[478]\tvalidation_0-auc:0.876314\n",
      "[479]\tvalidation_0-auc:0.87634\n",
      "[480]\tvalidation_0-auc:0.876319\n",
      "[481]\tvalidation_0-auc:0.876454\n",
      "[482]\tvalidation_0-auc:0.876593\n",
      "[483]\tvalidation_0-auc:0.876744\n",
      "[484]\tvalidation_0-auc:0.876925\n",
      "[485]\tvalidation_0-auc:0.877028\n",
      "[486]\tvalidation_0-auc:0.877059\n",
      "[487]\tvalidation_0-auc:0.877277\n",
      "[488]\tvalidation_0-auc:0.877261\n",
      "[489]\tvalidation_0-auc:0.877292\n",
      "[490]\tvalidation_0-auc:0.877303\n",
      "[491]\tvalidation_0-auc:0.87723\n",
      "[492]\tvalidation_0-auc:0.877059\n",
      "[493]\tvalidation_0-auc:0.877256\n",
      "[494]\tvalidation_0-auc:0.877266\n",
      "[495]\tvalidation_0-auc:0.877339\n",
      "[496]\tvalidation_0-auc:0.877344\n",
      "[497]\tvalidation_0-auc:0.877422\n",
      "[498]\tvalidation_0-auc:0.877479\n",
      "[499]\tvalidation_0-auc:0.87752\n",
      "[500]\tvalidation_0-auc:0.877468\n",
      "[501]\tvalidation_0-auc:0.877608\n",
      "[502]\tvalidation_0-auc:0.877675\n",
      "[503]\tvalidation_0-auc:0.877639\n",
      "[504]\tvalidation_0-auc:0.87766\n",
      "[505]\tvalidation_0-auc:0.877722\n",
      "[506]\tvalidation_0-auc:0.877784\n",
      "[507]\tvalidation_0-auc:0.877774\n",
      "[508]\tvalidation_0-auc:0.877929\n",
      "[509]\tvalidation_0-auc:0.877994\n",
      "[510]\tvalidation_0-auc:0.878072\n",
      "[511]\tvalidation_0-auc:0.878087\n",
      "[512]\tvalidation_0-auc:0.87816\n",
      "[513]\tvalidation_0-auc:0.878144\n",
      "[514]\tvalidation_0-auc:0.878154\n",
      "[515]\tvalidation_0-auc:0.878201\n",
      "[516]\tvalidation_0-auc:0.878346\n",
      "[517]\tvalidation_0-auc:0.878336\n",
      "[518]\tvalidation_0-auc:0.878341\n",
      "[519]\tvalidation_0-auc:0.878356\n",
      "[520]\tvalidation_0-auc:0.878372\n",
      "[521]\tvalidation_0-auc:0.878429\n",
      "[522]\tvalidation_0-auc:0.878455\n",
      "[523]\tvalidation_0-auc:0.878439\n",
      "[524]\tvalidation_0-auc:0.878475\n",
      "[525]\tvalidation_0-auc:0.878522\n",
      "[526]\tvalidation_0-auc:0.878481\n",
      "[527]\tvalidation_0-auc:0.878522\n",
      "[528]\tvalidation_0-auc:0.878605\n",
      "[529]\tvalidation_0-auc:0.878491\n",
      "[530]\tvalidation_0-auc:0.878667\n",
      "[531]\tvalidation_0-auc:0.878755\n",
      "[532]\tvalidation_0-auc:0.878796\n",
      "[533]\tvalidation_0-auc:0.879071\n",
      "[534]\tvalidation_0-auc:0.879143\n",
      "[535]\tvalidation_0-auc:0.879081\n",
      "[536]\tvalidation_0-auc:0.879221\n",
      "[537]\tvalidation_0-auc:0.879257\n",
      "[538]\tvalidation_0-auc:0.879449\n",
      "[539]\tvalidation_0-auc:0.879526\n",
      "[540]\tvalidation_0-auc:0.879646\n",
      "[541]\tvalidation_0-auc:0.879791\n",
      "[542]\tvalidation_0-auc:0.87977\n",
      "[543]\tvalidation_0-auc:0.879744\n",
      "[544]\tvalidation_0-auc:0.879863\n",
      "[545]\tvalidation_0-auc:0.879915\n",
      "[546]\tvalidation_0-auc:0.879992\n",
      "[547]\tvalidation_0-auc:0.879987\n",
      "[548]\tvalidation_0-auc:0.87991\n",
      "[549]\tvalidation_0-auc:0.879977\n",
      "[550]\tvalidation_0-auc:0.879998\n",
      "[551]\tvalidation_0-auc:0.880096\n",
      "[552]\tvalidation_0-auc:0.880241\n",
      "[553]\tvalidation_0-auc:0.880231\n",
      "[554]\tvalidation_0-auc:0.880345\n",
      "[555]\tvalidation_0-auc:0.880396\n",
      "[556]\tvalidation_0-auc:0.880427\n",
      "[557]\tvalidation_0-auc:0.880593\n",
      "[558]\tvalidation_0-auc:0.880614\n",
      "[559]\tvalidation_0-auc:0.880624\n",
      "[560]\tvalidation_0-auc:0.88065\n",
      "[561]\tvalidation_0-auc:0.880588\n",
      "[562]\tvalidation_0-auc:0.880572\n",
      "[563]\tvalidation_0-auc:0.880666\n",
      "[564]\tvalidation_0-auc:0.88064\n",
      "[565]\tvalidation_0-auc:0.880671\n",
      "[566]\tvalidation_0-auc:0.880634\n",
      "[567]\tvalidation_0-auc:0.880609\n",
      "[568]\tvalidation_0-auc:0.880691\n",
      "[569]\tvalidation_0-auc:0.880645\n",
      "[570]\tvalidation_0-auc:0.880919\n",
      "[571]\tvalidation_0-auc:0.880914\n",
      "[572]\tvalidation_0-auc:0.880981\n",
      "[573]\tvalidation_0-auc:0.8811\n",
      "[574]\tvalidation_0-auc:0.881085\n",
      "[575]\tvalidation_0-auc:0.881147\n",
      "[576]\tvalidation_0-auc:0.881111\n",
      "[577]\tvalidation_0-auc:0.881095\n",
      "[578]\tvalidation_0-auc:0.881121\n",
      "[579]\tvalidation_0-auc:0.881069\n",
      "[580]\tvalidation_0-auc:0.881126\n",
      "[581]\tvalidation_0-auc:0.881111\n",
      "[582]\tvalidation_0-auc:0.881225\n",
      "[583]\tvalidation_0-auc:0.881225\n",
      "[584]\tvalidation_0-auc:0.881183\n",
      "[585]\tvalidation_0-auc:0.88108\n",
      "[586]\tvalidation_0-auc:0.881214\n",
      "[587]\tvalidation_0-auc:0.88123\n",
      "[588]\tvalidation_0-auc:0.881261\n",
      "[589]\tvalidation_0-auc:0.881308\n",
      "[590]\tvalidation_0-auc:0.881401\n",
      "[591]\tvalidation_0-auc:0.881427\n",
      "[592]\tvalidation_0-auc:0.88138\n",
      "[593]\tvalidation_0-auc:0.881473\n",
      "[594]\tvalidation_0-auc:0.881551\n",
      "[595]\tvalidation_0-auc:0.881665\n",
      "[596]\tvalidation_0-auc:0.881623\n",
      "[597]\tvalidation_0-auc:0.881774\n",
      "[598]\tvalidation_0-auc:0.881794\n",
      "[599]\tvalidation_0-auc:0.88182\n",
      "[600]\tvalidation_0-auc:0.881965\n",
      "[601]\tvalidation_0-auc:0.881924\n",
      "[602]\tvalidation_0-auc:0.881955\n",
      "[603]\tvalidation_0-auc:0.881944\n",
      "[604]\tvalidation_0-auc:0.881903\n",
      "[605]\tvalidation_0-auc:0.881991\n",
      "[606]\tvalidation_0-auc:0.88196\n",
      "[607]\tvalidation_0-auc:0.881955\n",
      "[608]\tvalidation_0-auc:0.881913\n",
      "[609]\tvalidation_0-auc:0.88195\n",
      "[610]\tvalidation_0-auc:0.88196\n",
      "[611]\tvalidation_0-auc:0.881986\n",
      "[612]\tvalidation_0-auc:0.882001\n",
      "[613]\tvalidation_0-auc:0.882001\n",
      "[614]\tvalidation_0-auc:0.882084\n",
      "[615]\tvalidation_0-auc:0.882131\n",
      "[616]\tvalidation_0-auc:0.882281\n",
      "[617]\tvalidation_0-auc:0.882343\n",
      "[618]\tvalidation_0-auc:0.882369\n",
      "[619]\tvalidation_0-auc:0.882312\n",
      "[620]\tvalidation_0-auc:0.882265\n",
      "[621]\tvalidation_0-auc:0.882271\n",
      "[622]\tvalidation_0-auc:0.88224\n",
      "[623]\tvalidation_0-auc:0.882467\n",
      "[624]\tvalidation_0-auc:0.882504\n",
      "[625]\tvalidation_0-auc:0.882602\n",
      "[626]\tvalidation_0-auc:0.88254\n",
      "[627]\tvalidation_0-auc:0.882566\n",
      "[628]\tvalidation_0-auc:0.88256\n",
      "[629]\tvalidation_0-auc:0.882535\n",
      "[630]\tvalidation_0-auc:0.882628\n",
      "[631]\tvalidation_0-auc:0.882669\n",
      "[632]\tvalidation_0-auc:0.882638\n",
      "[633]\tvalidation_0-auc:0.882633\n",
      "[634]\tvalidation_0-auc:0.882664\n",
      "[635]\tvalidation_0-auc:0.88284\n",
      "[636]\tvalidation_0-auc:0.88283\n",
      "[637]\tvalidation_0-auc:0.882845\n",
      "[638]\tvalidation_0-auc:0.882975\n",
      "[639]\tvalidation_0-auc:0.883063\n",
      "[640]\tvalidation_0-auc:0.883058\n",
      "[641]\tvalidation_0-auc:0.88314\n",
      "[642]\tvalidation_0-auc:0.883265\n",
      "[643]\tvalidation_0-auc:0.883337\n",
      "[644]\tvalidation_0-auc:0.883239\n",
      "[645]\tvalidation_0-auc:0.883228\n",
      "[646]\tvalidation_0-auc:0.883291\n",
      "[647]\tvalidation_0-auc:0.883244\n",
      "[648]\tvalidation_0-auc:0.883244\n",
      "[649]\tvalidation_0-auc:0.883327\n",
      "[650]\tvalidation_0-auc:0.883332\n",
      "[651]\tvalidation_0-auc:0.883316\n",
      "[652]\tvalidation_0-auc:0.883358\n",
      "[653]\tvalidation_0-auc:0.883327\n",
      "[654]\tvalidation_0-auc:0.883477\n",
      "[655]\tvalidation_0-auc:0.88328\n",
      "[656]\tvalidation_0-auc:0.883311\n",
      "[657]\tvalidation_0-auc:0.883446\n",
      "[658]\tvalidation_0-auc:0.883389\n",
      "[659]\tvalidation_0-auc:0.883404\n",
      "[660]\tvalidation_0-auc:0.883513\n",
      "[661]\tvalidation_0-auc:0.883487\n",
      "[662]\tvalidation_0-auc:0.88341\n",
      "[663]\tvalidation_0-auc:0.883404\n",
      "[664]\tvalidation_0-auc:0.883384\n",
      "[665]\tvalidation_0-auc:0.883384\n",
      "[666]\tvalidation_0-auc:0.883518\n",
      "[667]\tvalidation_0-auc:0.883477\n",
      "[668]\tvalidation_0-auc:0.883524\n",
      "[669]\tvalidation_0-auc:0.883472\n",
      "[670]\tvalidation_0-auc:0.883524\n",
      "[671]\tvalidation_0-auc:0.883583\n",
      "[672]\tvalidation_0-auc:0.883702\n",
      "[673]\tvalidation_0-auc:0.883749\n",
      "[674]\tvalidation_0-auc:0.883702\n",
      "[675]\tvalidation_0-auc:0.883847\n",
      "[676]\tvalidation_0-auc:0.883811\n",
      "[677]\tvalidation_0-auc:0.883852\n",
      "[678]\tvalidation_0-auc:0.883863\n",
      "[679]\tvalidation_0-auc:0.883837\n",
      "[680]\tvalidation_0-auc:0.883801\n",
      "[681]\tvalidation_0-auc:0.88392\n",
      "[682]\tvalidation_0-auc:0.883832\n",
      "[683]\tvalidation_0-auc:0.883899\n",
      "[684]\tvalidation_0-auc:0.88393\n",
      "[685]\tvalidation_0-auc:0.883857\n",
      "[686]\tvalidation_0-auc:0.883811\n",
      "[687]\tvalidation_0-auc:0.883821\n",
      "[688]\tvalidation_0-auc:0.883832\n",
      "[689]\tvalidation_0-auc:0.883945\n",
      "[690]\tvalidation_0-auc:0.883883\n",
      "[691]\tvalidation_0-auc:0.883914\n",
      "[692]\tvalidation_0-auc:0.883987\n",
      "[693]\tvalidation_0-auc:0.884039\n",
      "[694]\tvalidation_0-auc:0.884054\n",
      "[695]\tvalidation_0-auc:0.884075\n",
      "[696]\tvalidation_0-auc:0.884044\n",
      "[697]\tvalidation_0-auc:0.884034\n",
      "[698]\tvalidation_0-auc:0.884028\n",
      "[699]\tvalidation_0-auc:0.88407\n",
      "[700]\tvalidation_0-auc:0.884034\n",
      "[701]\tvalidation_0-auc:0.883956\n",
      "[702]\tvalidation_0-auc:0.883982\n",
      "[703]\tvalidation_0-auc:0.884127\n",
      "[704]\tvalidation_0-auc:0.88407\n",
      "[705]\tvalidation_0-auc:0.88409\n",
      "[706]\tvalidation_0-auc:0.884153\n",
      "[707]\tvalidation_0-auc:0.884142\n",
      "[708]\tvalidation_0-auc:0.884116\n",
      "[709]\tvalidation_0-auc:0.884054\n",
      "[710]\tvalidation_0-auc:0.88407\n",
      "[711]\tvalidation_0-auc:0.884049\n",
      "[712]\tvalidation_0-auc:0.88409\n",
      "[713]\tvalidation_0-auc:0.884111\n",
      "[714]\tvalidation_0-auc:0.884127\n",
      "[715]\tvalidation_0-auc:0.884308\n",
      "[716]\tvalidation_0-auc:0.884391\n",
      "[717]\tvalidation_0-auc:0.884448\n",
      "[718]\tvalidation_0-auc:0.884406\n",
      "[719]\tvalidation_0-auc:0.884443\n",
      "[720]\tvalidation_0-auc:0.884443\n",
      "[721]\tvalidation_0-auc:0.884417\n",
      "[722]\tvalidation_0-auc:0.884401\n",
      "[723]\tvalidation_0-auc:0.884432\n",
      "[724]\tvalidation_0-auc:0.88452\n",
      "[725]\tvalidation_0-auc:0.884644\n",
      "[726]\tvalidation_0-auc:0.88466\n",
      "[727]\tvalidation_0-auc:0.884655\n",
      "[728]\tvalidation_0-auc:0.884696\n",
      "[729]\tvalidation_0-auc:0.884676\n",
      "[730]\tvalidation_0-auc:0.884608\n",
      "[731]\tvalidation_0-auc:0.884593\n",
      "[732]\tvalidation_0-auc:0.884707\n",
      "[733]\tvalidation_0-auc:0.884676\n",
      "[734]\tvalidation_0-auc:0.884572\n",
      "[735]\tvalidation_0-auc:0.884541\n",
      "[736]\tvalidation_0-auc:0.88466\n",
      "[737]\tvalidation_0-auc:0.884686\n",
      "[738]\tvalidation_0-auc:0.884629\n",
      "[739]\tvalidation_0-auc:0.884551\n",
      "[740]\tvalidation_0-auc:0.884546\n",
      "[741]\tvalidation_0-auc:0.884603\n",
      "[742]\tvalidation_0-auc:0.884536\n",
      "Stopping. Best iteration:\n",
      "[732]\tvalidation_0-auc:0.884707\n",
      "\n"
     ]
    },
    {
     "data": {
      "text/plain": [
       "XGBClassifier(base_score=0.5, colsample_bylevel=1, colsample_bytree=0.3,\n",
       "       gamma=0, learning_rate=0.02, max_delta_step=0, max_depth=2,\n",
       "       min_child_weight=1, missing=None, n_estimators=1000, nthread=-1,\n",
       "       objective='binary:logistic', reg_alpha=0, reg_lambda=1,\n",
       "       scale_pos_weight=1, seed=0, silent=True, subsample=1)"
      ]
     },
     "execution_count": 72,
     "metadata": {},
     "output_type": "execute_result"
    }
   ],
   "source": [
    "import xgboost as xgb\n",
    "from sklearn.cross_validation import train_test_split\n",
    "\n",
    "clf = xgb.XGBClassifier(n_estimators=1000,learning_rate=0.02, gamma=0, max_depth=2,\n",
    "                        colsample_bytree=0.3)\n",
    "Xtr, Xte, ytr, yte = train_test_split(reducted_Xtc_train, y_train, random_state=0)\n",
    "clf.fit(Xtr, ytr, early_stopping_rounds=10, eval_metric=\"auc\",\n",
    "        eval_set=[(Xte, yte)])"
   ]
  },
  {
   "cell_type": "code",
   "execution_count": 73,
   "metadata": {},
   "outputs": [
    {
     "data": {
      "text/plain": [
       "XGBClassifier(base_score=0.5, colsample_bylevel=1, colsample_bytree=0.3,\n",
       "       gamma=0, learning_rate=0.02, max_delta_step=0, max_depth=2,\n",
       "       min_child_weight=1, missing=None, n_estimators=732, nthread=-1,\n",
       "       objective='binary:logistic', reg_alpha=0, reg_lambda=1,\n",
       "       scale_pos_weight=1, seed=0, silent=True, subsample=1)"
      ]
     },
     "execution_count": 73,
     "metadata": {},
     "output_type": "execute_result"
    }
   ],
   "source": [
    "clf = xgb.XGBClassifier(n_estimators=732,learning_rate=0.02, gamma=0, max_depth=2,\n",
    "                        colsample_bytree=0.3)\n",
    "\n",
    "clf.fit(reducted_Xtc_train, y_train)"
   ]
  },
  {
   "cell_type": "code",
   "execution_count": 75,
   "metadata": {},
   "outputs": [
    {
     "data": {
      "text/plain": [
       "0.89559877175025604"
      ]
     },
     "execution_count": 75,
     "metadata": {},
     "output_type": "execute_result"
    }
   ],
   "source": [
    "clf_pred = clf.predict_proba(Xtc_test.tocsc()[:, non_null_cols])[:, 1]\n",
    "metrics.roc_auc_score(y_test, clf_pred)"
   ]
  },
  {
   "cell_type": "code",
   "execution_count": 76,
   "metadata": {},
   "outputs": [
    {
     "data": {
      "text/plain": [
       "0.90543983481547463"
      ]
     },
     "execution_count": 76,
     "metadata": {},
     "output_type": "execute_result"
    }
   ],
   "source": [
    "metrics.roc_auc_score(y_test, clf_pred+logreg1_tc_pred)"
   ]
  },
  {
   "cell_type": "code",
   "execution_count": null,
   "metadata": {
    "collapsed": true
   },
   "outputs": [],
   "source": []
  }
 ],
 "metadata": {
  "kernelspec": {
   "display_name": "Python 3",
   "language": "python",
   "name": "python3"
  },
  "language_info": {
   "codemirror_mode": {
    "name": "ipython",
    "version": 3
   },
   "file_extension": ".py",
   "mimetype": "text/x-python",
   "name": "python",
   "nbconvert_exporter": "python",
   "pygments_lexer": "ipython3",
   "version": "3.6.2"
  }
 },
 "nbformat": 4,
 "nbformat_minor": 1
}
